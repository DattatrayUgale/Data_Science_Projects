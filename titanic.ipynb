{
 "cells": [
  {
   "cell_type": "code",
   "execution_count": 1,
   "id": "9ad6ca08",
   "metadata": {
    "_cell_guid": "b1076dfc-b9ad-4769-8c92-a6c4dae69d19",
    "_uuid": "8f2839f25d086af736a60e9eeb907d3b93b6e0e5",
    "execution": {
     "iopub.execute_input": "2021-12-23T17:57:12.222938Z",
     "iopub.status.busy": "2021-12-23T17:57:12.222079Z",
     "iopub.status.idle": "2021-12-23T17:57:13.794056Z",
     "shell.execute_reply": "2021-12-23T17:57:13.794638Z",
     "shell.execute_reply.started": "2021-12-23T17:48:12.970410Z"
    },
    "papermill": {
     "duration": 1.630938,
     "end_time": "2021-12-23T17:57:13.794959",
     "exception": false,
     "start_time": "2021-12-23T17:57:12.164021",
     "status": "completed"
    },
    "tags": []
   },
   "outputs": [],
   "source": [
    "import numpy as np\n",
    "import pandas as pd\n",
    "import matplotlib.pyplot as plt\n",
    "import seaborn as sns\n",
    "\n",
    "from sklearn.preprocessing import LabelEncoder, OneHotEncoder, StandardScaler, RobustScaler\n",
    "from sklearn.model_selection import GridSearchCV, cross_val_score, KFold, RepeatedStratifiedKFold\n",
    "from sklearn.model_selection import RepeatedKFold, train_test_split, RandomizedSearchCV\n",
    "from sklearn.neighbors import  KNeighborsClassifier as knn\n",
    "from sklearn.linear_model import LogisticRegression\n",
    "from sklearn.svm import SVC\n",
    "from sklearn.ensemble import RandomForestClassifier, VotingClassifier\n",
    "import xgboost\n",
    "from xgboost import XGBClassifier\n",
    "from sklearn.metrics import auc, accuracy_score, confusion_matrix"
   ]
  },
  {
   "cell_type": "code",
   "execution_count": 2,
   "id": "d3d71a35",
   "metadata": {
    "execution": {
     "iopub.execute_input": "2021-12-23T17:57:13.884325Z",
     "iopub.status.busy": "2021-12-23T17:57:13.883325Z",
     "iopub.status.idle": "2021-12-23T17:57:13.915642Z",
     "shell.execute_reply": "2021-12-23T17:57:13.916261Z",
     "shell.execute_reply.started": "2021-12-23T17:48:12.984346Z"
    },
    "papermill": {
     "duration": 0.078416,
     "end_time": "2021-12-23T17:57:13.916464",
     "exception": false,
     "start_time": "2021-12-23T17:57:13.838048",
     "status": "completed"
    },
    "tags": []
   },
   "outputs": [],
   "source": [
    "train = pd.read_csv('/kaggle/input/titanic/train.csv')\n",
    "test = pd.read_csv('/kaggle/input/titanic/test.csv')"
   ]
  },
  {
   "cell_type": "code",
   "execution_count": 3,
   "id": "ebae897e",
   "metadata": {
    "execution": {
     "iopub.execute_input": "2021-12-23T17:57:14.006953Z",
     "iopub.status.busy": "2021-12-23T17:57:14.006239Z",
     "iopub.status.idle": "2021-12-23T17:57:14.022349Z",
     "shell.execute_reply": "2021-12-23T17:57:14.022943Z",
     "shell.execute_reply.started": "2021-12-23T17:48:13.007774Z"
    },
    "papermill": {
     "duration": 0.063097,
     "end_time": "2021-12-23T17:57:14.023167",
     "exception": false,
     "start_time": "2021-12-23T17:57:13.960070",
     "status": "completed"
    },
    "tags": []
   },
   "outputs": [],
   "source": [
    "df = pd.concat((train, test)).reset_index(drop=True)"
   ]
  },
  {
   "cell_type": "code",
   "execution_count": 4,
   "id": "69b9f06d",
   "metadata": {
    "execution": {
     "iopub.execute_input": "2021-12-23T17:57:14.122252Z",
     "iopub.status.busy": "2021-12-23T17:57:14.121185Z",
     "iopub.status.idle": "2021-12-23T17:57:14.144630Z",
     "shell.execute_reply": "2021-12-23T17:57:14.145138Z",
     "shell.execute_reply.started": "2021-12-23T17:48:13.018770Z"
    },
    "papermill": {
     "duration": 0.077752,
     "end_time": "2021-12-23T17:57:14.145311",
     "exception": false,
     "start_time": "2021-12-23T17:57:14.067559",
     "status": "completed"
    },
    "tags": []
   },
   "outputs": [
    {
     "data": {
      "text/html": [
       "<div>\n",
       "<style scoped>\n",
       "    .dataframe tbody tr th:only-of-type {\n",
       "        vertical-align: middle;\n",
       "    }\n",
       "\n",
       "    .dataframe tbody tr th {\n",
       "        vertical-align: top;\n",
       "    }\n",
       "\n",
       "    .dataframe thead th {\n",
       "        text-align: right;\n",
       "    }\n",
       "</style>\n",
       "<table border=\"1\" class=\"dataframe\">\n",
       "  <thead>\n",
       "    <tr style=\"text-align: right;\">\n",
       "      <th></th>\n",
       "      <th>PassengerId</th>\n",
       "      <th>Survived</th>\n",
       "      <th>Pclass</th>\n",
       "      <th>Name</th>\n",
       "      <th>Sex</th>\n",
       "      <th>Age</th>\n",
       "      <th>SibSp</th>\n",
       "      <th>Parch</th>\n",
       "      <th>Ticket</th>\n",
       "      <th>Fare</th>\n",
       "      <th>Cabin</th>\n",
       "      <th>Embarked</th>\n",
       "    </tr>\n",
       "  </thead>\n",
       "  <tbody>\n",
       "    <tr>\n",
       "      <th>0</th>\n",
       "      <td>1</td>\n",
       "      <td>0.0</td>\n",
       "      <td>3</td>\n",
       "      <td>Braund, Mr. Owen Harris</td>\n",
       "      <td>male</td>\n",
       "      <td>22.0</td>\n",
       "      <td>1</td>\n",
       "      <td>0</td>\n",
       "      <td>A/5 21171</td>\n",
       "      <td>7.2500</td>\n",
       "      <td>NaN</td>\n",
       "      <td>S</td>\n",
       "    </tr>\n",
       "    <tr>\n",
       "      <th>1</th>\n",
       "      <td>2</td>\n",
       "      <td>1.0</td>\n",
       "      <td>1</td>\n",
       "      <td>Cumings, Mrs. John Bradley (Florence Briggs Th...</td>\n",
       "      <td>female</td>\n",
       "      <td>38.0</td>\n",
       "      <td>1</td>\n",
       "      <td>0</td>\n",
       "      <td>PC 17599</td>\n",
       "      <td>71.2833</td>\n",
       "      <td>C85</td>\n",
       "      <td>C</td>\n",
       "    </tr>\n",
       "    <tr>\n",
       "      <th>2</th>\n",
       "      <td>3</td>\n",
       "      <td>1.0</td>\n",
       "      <td>3</td>\n",
       "      <td>Heikkinen, Miss. Laina</td>\n",
       "      <td>female</td>\n",
       "      <td>26.0</td>\n",
       "      <td>0</td>\n",
       "      <td>0</td>\n",
       "      <td>STON/O2. 3101282</td>\n",
       "      <td>7.9250</td>\n",
       "      <td>NaN</td>\n",
       "      <td>S</td>\n",
       "    </tr>\n",
       "    <tr>\n",
       "      <th>3</th>\n",
       "      <td>4</td>\n",
       "      <td>1.0</td>\n",
       "      <td>1</td>\n",
       "      <td>Futrelle, Mrs. Jacques Heath (Lily May Peel)</td>\n",
       "      <td>female</td>\n",
       "      <td>35.0</td>\n",
       "      <td>1</td>\n",
       "      <td>0</td>\n",
       "      <td>113803</td>\n",
       "      <td>53.1000</td>\n",
       "      <td>C123</td>\n",
       "      <td>S</td>\n",
       "    </tr>\n",
       "    <tr>\n",
       "      <th>4</th>\n",
       "      <td>5</td>\n",
       "      <td>0.0</td>\n",
       "      <td>3</td>\n",
       "      <td>Allen, Mr. William Henry</td>\n",
       "      <td>male</td>\n",
       "      <td>35.0</td>\n",
       "      <td>0</td>\n",
       "      <td>0</td>\n",
       "      <td>373450</td>\n",
       "      <td>8.0500</td>\n",
       "      <td>NaN</td>\n",
       "      <td>S</td>\n",
       "    </tr>\n",
       "    <tr>\n",
       "      <th>...</th>\n",
       "      <td>...</td>\n",
       "      <td>...</td>\n",
       "      <td>...</td>\n",
       "      <td>...</td>\n",
       "      <td>...</td>\n",
       "      <td>...</td>\n",
       "      <td>...</td>\n",
       "      <td>...</td>\n",
       "      <td>...</td>\n",
       "      <td>...</td>\n",
       "      <td>...</td>\n",
       "      <td>...</td>\n",
       "    </tr>\n",
       "    <tr>\n",
       "      <th>1304</th>\n",
       "      <td>1305</td>\n",
       "      <td>NaN</td>\n",
       "      <td>3</td>\n",
       "      <td>Spector, Mr. Woolf</td>\n",
       "      <td>male</td>\n",
       "      <td>NaN</td>\n",
       "      <td>0</td>\n",
       "      <td>0</td>\n",
       "      <td>A.5. 3236</td>\n",
       "      <td>8.0500</td>\n",
       "      <td>NaN</td>\n",
       "      <td>S</td>\n",
       "    </tr>\n",
       "    <tr>\n",
       "      <th>1305</th>\n",
       "      <td>1306</td>\n",
       "      <td>NaN</td>\n",
       "      <td>1</td>\n",
       "      <td>Oliva y Ocana, Dona. Fermina</td>\n",
       "      <td>female</td>\n",
       "      <td>39.0</td>\n",
       "      <td>0</td>\n",
       "      <td>0</td>\n",
       "      <td>PC 17758</td>\n",
       "      <td>108.9000</td>\n",
       "      <td>C105</td>\n",
       "      <td>C</td>\n",
       "    </tr>\n",
       "    <tr>\n",
       "      <th>1306</th>\n",
       "      <td>1307</td>\n",
       "      <td>NaN</td>\n",
       "      <td>3</td>\n",
       "      <td>Saether, Mr. Simon Sivertsen</td>\n",
       "      <td>male</td>\n",
       "      <td>38.5</td>\n",
       "      <td>0</td>\n",
       "      <td>0</td>\n",
       "      <td>SOTON/O.Q. 3101262</td>\n",
       "      <td>7.2500</td>\n",
       "      <td>NaN</td>\n",
       "      <td>S</td>\n",
       "    </tr>\n",
       "    <tr>\n",
       "      <th>1307</th>\n",
       "      <td>1308</td>\n",
       "      <td>NaN</td>\n",
       "      <td>3</td>\n",
       "      <td>Ware, Mr. Frederick</td>\n",
       "      <td>male</td>\n",
       "      <td>NaN</td>\n",
       "      <td>0</td>\n",
       "      <td>0</td>\n",
       "      <td>359309</td>\n",
       "      <td>8.0500</td>\n",
       "      <td>NaN</td>\n",
       "      <td>S</td>\n",
       "    </tr>\n",
       "    <tr>\n",
       "      <th>1308</th>\n",
       "      <td>1309</td>\n",
       "      <td>NaN</td>\n",
       "      <td>3</td>\n",
       "      <td>Peter, Master. Michael J</td>\n",
       "      <td>male</td>\n",
       "      <td>NaN</td>\n",
       "      <td>1</td>\n",
       "      <td>1</td>\n",
       "      <td>2668</td>\n",
       "      <td>22.3583</td>\n",
       "      <td>NaN</td>\n",
       "      <td>C</td>\n",
       "    </tr>\n",
       "  </tbody>\n",
       "</table>\n",
       "<p>1309 rows × 12 columns</p>\n",
       "</div>"
      ],
      "text/plain": [
       "      PassengerId  Survived  Pclass  \\\n",
       "0               1       0.0       3   \n",
       "1               2       1.0       1   \n",
       "2               3       1.0       3   \n",
       "3               4       1.0       1   \n",
       "4               5       0.0       3   \n",
       "...           ...       ...     ...   \n",
       "1304         1305       NaN       3   \n",
       "1305         1306       NaN       1   \n",
       "1306         1307       NaN       3   \n",
       "1307         1308       NaN       3   \n",
       "1308         1309       NaN       3   \n",
       "\n",
       "                                                   Name     Sex   Age  SibSp  \\\n",
       "0                               Braund, Mr. Owen Harris    male  22.0      1   \n",
       "1     Cumings, Mrs. John Bradley (Florence Briggs Th...  female  38.0      1   \n",
       "2                                Heikkinen, Miss. Laina  female  26.0      0   \n",
       "3          Futrelle, Mrs. Jacques Heath (Lily May Peel)  female  35.0      1   \n",
       "4                              Allen, Mr. William Henry    male  35.0      0   \n",
       "...                                                 ...     ...   ...    ...   \n",
       "1304                                 Spector, Mr. Woolf    male   NaN      0   \n",
       "1305                       Oliva y Ocana, Dona. Fermina  female  39.0      0   \n",
       "1306                       Saether, Mr. Simon Sivertsen    male  38.5      0   \n",
       "1307                                Ware, Mr. Frederick    male   NaN      0   \n",
       "1308                           Peter, Master. Michael J    male   NaN      1   \n",
       "\n",
       "      Parch              Ticket      Fare Cabin Embarked  \n",
       "0         0           A/5 21171    7.2500   NaN        S  \n",
       "1         0            PC 17599   71.2833   C85        C  \n",
       "2         0    STON/O2. 3101282    7.9250   NaN        S  \n",
       "3         0              113803   53.1000  C123        S  \n",
       "4         0              373450    8.0500   NaN        S  \n",
       "...     ...                 ...       ...   ...      ...  \n",
       "1304      0           A.5. 3236    8.0500   NaN        S  \n",
       "1305      0            PC 17758  108.9000  C105        C  \n",
       "1306      0  SOTON/O.Q. 3101262    7.2500   NaN        S  \n",
       "1307      0              359309    8.0500   NaN        S  \n",
       "1308      1                2668   22.3583   NaN        C  \n",
       "\n",
       "[1309 rows x 12 columns]"
      ]
     },
     "execution_count": 4,
     "metadata": {},
     "output_type": "execute_result"
    }
   ],
   "source": [
    "df"
   ]
  },
  {
   "cell_type": "code",
   "execution_count": 5,
   "id": "8cbd5091",
   "metadata": {
    "execution": {
     "iopub.execute_input": "2021-12-23T17:57:14.251384Z",
     "iopub.status.busy": "2021-12-23T17:57:14.250588Z",
     "iopub.status.idle": "2021-12-23T17:57:14.254762Z",
     "shell.execute_reply": "2021-12-23T17:57:14.254098Z",
     "shell.execute_reply.started": "2021-12-23T17:48:13.053138Z"
    },
    "papermill": {
     "duration": 0.065942,
     "end_time": "2021-12-23T17:57:14.254907",
     "exception": false,
     "start_time": "2021-12-23T17:57:14.188965",
     "status": "completed"
    },
    "tags": []
   },
   "outputs": [
    {
     "data": {
      "text/html": [
       "<div>\n",
       "<style scoped>\n",
       "    .dataframe tbody tr th:only-of-type {\n",
       "        vertical-align: middle;\n",
       "    }\n",
       "\n",
       "    .dataframe tbody tr th {\n",
       "        vertical-align: top;\n",
       "    }\n",
       "\n",
       "    .dataframe thead th {\n",
       "        text-align: right;\n",
       "    }\n",
       "</style>\n",
       "<table border=\"1\" class=\"dataframe\">\n",
       "  <thead>\n",
       "    <tr style=\"text-align: right;\">\n",
       "      <th></th>\n",
       "      <th>PassengerId</th>\n",
       "      <th>Survived</th>\n",
       "      <th>Pclass</th>\n",
       "      <th>Name</th>\n",
       "      <th>Sex</th>\n",
       "      <th>Age</th>\n",
       "      <th>SibSp</th>\n",
       "      <th>Parch</th>\n",
       "      <th>Ticket</th>\n",
       "      <th>Fare</th>\n",
       "      <th>Cabin</th>\n",
       "      <th>Embarked</th>\n",
       "    </tr>\n",
       "  </thead>\n",
       "  <tbody>\n",
       "    <tr>\n",
       "      <th>0</th>\n",
       "      <td>1</td>\n",
       "      <td>0.0</td>\n",
       "      <td>3</td>\n",
       "      <td>Braund, Mr. Owen Harris</td>\n",
       "      <td>male</td>\n",
       "      <td>22.0</td>\n",
       "      <td>1</td>\n",
       "      <td>0</td>\n",
       "      <td>A/5 21171</td>\n",
       "      <td>7.2500</td>\n",
       "      <td>NaN</td>\n",
       "      <td>S</td>\n",
       "    </tr>\n",
       "    <tr>\n",
       "      <th>1</th>\n",
       "      <td>2</td>\n",
       "      <td>1.0</td>\n",
       "      <td>1</td>\n",
       "      <td>Cumings, Mrs. John Bradley (Florence Briggs Th...</td>\n",
       "      <td>female</td>\n",
       "      <td>38.0</td>\n",
       "      <td>1</td>\n",
       "      <td>0</td>\n",
       "      <td>PC 17599</td>\n",
       "      <td>71.2833</td>\n",
       "      <td>C85</td>\n",
       "      <td>C</td>\n",
       "    </tr>\n",
       "    <tr>\n",
       "      <th>2</th>\n",
       "      <td>3</td>\n",
       "      <td>1.0</td>\n",
       "      <td>3</td>\n",
       "      <td>Heikkinen, Miss. Laina</td>\n",
       "      <td>female</td>\n",
       "      <td>26.0</td>\n",
       "      <td>0</td>\n",
       "      <td>0</td>\n",
       "      <td>STON/O2. 3101282</td>\n",
       "      <td>7.9250</td>\n",
       "      <td>NaN</td>\n",
       "      <td>S</td>\n",
       "    </tr>\n",
       "    <tr>\n",
       "      <th>3</th>\n",
       "      <td>4</td>\n",
       "      <td>1.0</td>\n",
       "      <td>1</td>\n",
       "      <td>Futrelle, Mrs. Jacques Heath (Lily May Peel)</td>\n",
       "      <td>female</td>\n",
       "      <td>35.0</td>\n",
       "      <td>1</td>\n",
       "      <td>0</td>\n",
       "      <td>113803</td>\n",
       "      <td>53.1000</td>\n",
       "      <td>C123</td>\n",
       "      <td>S</td>\n",
       "    </tr>\n",
       "    <tr>\n",
       "      <th>4</th>\n",
       "      <td>5</td>\n",
       "      <td>0.0</td>\n",
       "      <td>3</td>\n",
       "      <td>Allen, Mr. William Henry</td>\n",
       "      <td>male</td>\n",
       "      <td>35.0</td>\n",
       "      <td>0</td>\n",
       "      <td>0</td>\n",
       "      <td>373450</td>\n",
       "      <td>8.0500</td>\n",
       "      <td>NaN</td>\n",
       "      <td>S</td>\n",
       "    </tr>\n",
       "    <tr>\n",
       "      <th>5</th>\n",
       "      <td>6</td>\n",
       "      <td>0.0</td>\n",
       "      <td>3</td>\n",
       "      <td>Moran, Mr. James</td>\n",
       "      <td>male</td>\n",
       "      <td>NaN</td>\n",
       "      <td>0</td>\n",
       "      <td>0</td>\n",
       "      <td>330877</td>\n",
       "      <td>8.4583</td>\n",
       "      <td>NaN</td>\n",
       "      <td>Q</td>\n",
       "    </tr>\n",
       "    <tr>\n",
       "      <th>6</th>\n",
       "      <td>7</td>\n",
       "      <td>0.0</td>\n",
       "      <td>1</td>\n",
       "      <td>McCarthy, Mr. Timothy J</td>\n",
       "      <td>male</td>\n",
       "      <td>54.0</td>\n",
       "      <td>0</td>\n",
       "      <td>0</td>\n",
       "      <td>17463</td>\n",
       "      <td>51.8625</td>\n",
       "      <td>E46</td>\n",
       "      <td>S</td>\n",
       "    </tr>\n",
       "    <tr>\n",
       "      <th>7</th>\n",
       "      <td>8</td>\n",
       "      <td>0.0</td>\n",
       "      <td>3</td>\n",
       "      <td>Palsson, Master. Gosta Leonard</td>\n",
       "      <td>male</td>\n",
       "      <td>2.0</td>\n",
       "      <td>3</td>\n",
       "      <td>1</td>\n",
       "      <td>349909</td>\n",
       "      <td>21.0750</td>\n",
       "      <td>NaN</td>\n",
       "      <td>S</td>\n",
       "    </tr>\n",
       "    <tr>\n",
       "      <th>8</th>\n",
       "      <td>9</td>\n",
       "      <td>1.0</td>\n",
       "      <td>3</td>\n",
       "      <td>Johnson, Mrs. Oscar W (Elisabeth Vilhelmina Berg)</td>\n",
       "      <td>female</td>\n",
       "      <td>27.0</td>\n",
       "      <td>0</td>\n",
       "      <td>2</td>\n",
       "      <td>347742</td>\n",
       "      <td>11.1333</td>\n",
       "      <td>NaN</td>\n",
       "      <td>S</td>\n",
       "    </tr>\n",
       "    <tr>\n",
       "      <th>9</th>\n",
       "      <td>10</td>\n",
       "      <td>1.0</td>\n",
       "      <td>2</td>\n",
       "      <td>Nasser, Mrs. Nicholas (Adele Achem)</td>\n",
       "      <td>female</td>\n",
       "      <td>14.0</td>\n",
       "      <td>1</td>\n",
       "      <td>0</td>\n",
       "      <td>237736</td>\n",
       "      <td>30.0708</td>\n",
       "      <td>NaN</td>\n",
       "      <td>C</td>\n",
       "    </tr>\n",
       "  </tbody>\n",
       "</table>\n",
       "</div>"
      ],
      "text/plain": [
       "   PassengerId  Survived  Pclass  \\\n",
       "0            1       0.0       3   \n",
       "1            2       1.0       1   \n",
       "2            3       1.0       3   \n",
       "3            4       1.0       1   \n",
       "4            5       0.0       3   \n",
       "5            6       0.0       3   \n",
       "6            7       0.0       1   \n",
       "7            8       0.0       3   \n",
       "8            9       1.0       3   \n",
       "9           10       1.0       2   \n",
       "\n",
       "                                                Name     Sex   Age  SibSp  \\\n",
       "0                            Braund, Mr. Owen Harris    male  22.0      1   \n",
       "1  Cumings, Mrs. John Bradley (Florence Briggs Th...  female  38.0      1   \n",
       "2                             Heikkinen, Miss. Laina  female  26.0      0   \n",
       "3       Futrelle, Mrs. Jacques Heath (Lily May Peel)  female  35.0      1   \n",
       "4                           Allen, Mr. William Henry    male  35.0      0   \n",
       "5                                   Moran, Mr. James    male   NaN      0   \n",
       "6                            McCarthy, Mr. Timothy J    male  54.0      0   \n",
       "7                     Palsson, Master. Gosta Leonard    male   2.0      3   \n",
       "8  Johnson, Mrs. Oscar W (Elisabeth Vilhelmina Berg)  female  27.0      0   \n",
       "9                Nasser, Mrs. Nicholas (Adele Achem)  female  14.0      1   \n",
       "\n",
       "   Parch            Ticket     Fare Cabin Embarked  \n",
       "0      0         A/5 21171   7.2500   NaN        S  \n",
       "1      0          PC 17599  71.2833   C85        C  \n",
       "2      0  STON/O2. 3101282   7.9250   NaN        S  \n",
       "3      0            113803  53.1000  C123        S  \n",
       "4      0            373450   8.0500   NaN        S  \n",
       "5      0            330877   8.4583   NaN        Q  \n",
       "6      0             17463  51.8625   E46        S  \n",
       "7      1            349909  21.0750   NaN        S  \n",
       "8      2            347742  11.1333   NaN        S  \n",
       "9      0            237736  30.0708   NaN        C  "
      ]
     },
     "execution_count": 5,
     "metadata": {},
     "output_type": "execute_result"
    }
   ],
   "source": [
    "df.head(10)"
   ]
  },
  {
   "cell_type": "code",
   "execution_count": 6,
   "id": "9024078a",
   "metadata": {
    "execution": {
     "iopub.execute_input": "2021-12-23T17:57:14.351071Z",
     "iopub.status.busy": "2021-12-23T17:57:14.346263Z",
     "iopub.status.idle": "2021-12-23T17:57:14.366761Z",
     "shell.execute_reply": "2021-12-23T17:57:14.367464Z",
     "shell.execute_reply.started": "2021-12-23T17:48:13.081224Z"
    },
    "papermill": {
     "duration": 0.068542,
     "end_time": "2021-12-23T17:57:14.367643",
     "exception": false,
     "start_time": "2021-12-23T17:57:14.299101",
     "status": "completed"
    },
    "tags": []
   },
   "outputs": [
    {
     "name": "stdout",
     "output_type": "stream",
     "text": [
      "<class 'pandas.core.frame.DataFrame'>\n",
      "RangeIndex: 1309 entries, 0 to 1308\n",
      "Data columns (total 12 columns):\n",
      " #   Column       Non-Null Count  Dtype  \n",
      "---  ------       --------------  -----  \n",
      " 0   PassengerId  1309 non-null   int64  \n",
      " 1   Survived     891 non-null    float64\n",
      " 2   Pclass       1309 non-null   int64  \n",
      " 3   Name         1309 non-null   object \n",
      " 4   Sex          1309 non-null   object \n",
      " 5   Age          1046 non-null   float64\n",
      " 6   SibSp        1309 non-null   int64  \n",
      " 7   Parch        1309 non-null   int64  \n",
      " 8   Ticket       1309 non-null   object \n",
      " 9   Fare         1308 non-null   float64\n",
      " 10  Cabin        295 non-null    object \n",
      " 11  Embarked     1307 non-null   object \n",
      "dtypes: float64(3), int64(4), object(5)\n",
      "memory usage: 122.8+ KB\n"
     ]
    }
   ],
   "source": [
    "df.info()"
   ]
  },
  {
   "cell_type": "code",
   "execution_count": 7,
   "id": "0a9a418e",
   "metadata": {
    "execution": {
     "iopub.execute_input": "2021-12-23T17:57:14.459496Z",
     "iopub.status.busy": "2021-12-23T17:57:14.458807Z",
     "iopub.status.idle": "2021-12-23T17:57:14.466928Z",
     "shell.execute_reply": "2021-12-23T17:57:14.467432Z",
     "shell.execute_reply.started": "2021-12-23T17:48:13.097809Z"
    },
    "papermill": {
     "duration": 0.055924,
     "end_time": "2021-12-23T17:57:14.467625",
     "exception": false,
     "start_time": "2021-12-23T17:57:14.411701",
     "status": "completed"
    },
    "tags": []
   },
   "outputs": [
    {
     "data": {
      "text/plain": [
       "PassengerId       0\n",
       "Survived        418\n",
       "Pclass            0\n",
       "Name              0\n",
       "Sex               0\n",
       "Age             263\n",
       "SibSp             0\n",
       "Parch             0\n",
       "Ticket            0\n",
       "Fare              1\n",
       "Cabin          1014\n",
       "Embarked          2\n",
       "dtype: int64"
      ]
     },
     "execution_count": 7,
     "metadata": {},
     "output_type": "execute_result"
    }
   ],
   "source": [
    "df.isnull().sum()"
   ]
  },
  {
   "cell_type": "code",
   "execution_count": 8,
   "id": "415bcb05",
   "metadata": {
    "execution": {
     "iopub.execute_input": "2021-12-23T17:57:14.560753Z",
     "iopub.status.busy": "2021-12-23T17:57:14.559914Z",
     "iopub.status.idle": "2021-12-23T17:57:14.569775Z",
     "shell.execute_reply": "2021-12-23T17:57:14.570269Z",
     "shell.execute_reply.started": "2021-12-23T17:48:13.110661Z"
    },
    "papermill": {
     "duration": 0.057712,
     "end_time": "2021-12-23T17:57:14.570503",
     "exception": false,
     "start_time": "2021-12-23T17:57:14.512791",
     "status": "completed"
    },
    "tags": []
   },
   "outputs": [],
   "source": [
    "# missing values\n",
    "df['Age'] = df.Age.fillna(df.Age.median())\n",
    "df['Fare'] = df.Fare.fillna(df.Fare.median())\n",
    "df.dropna(subset=['Embarked'], inplace=True)\n",
    "cabins = (df['Cabin'])\n",
    "df.drop(['Cabin'], axis=1, inplace=True)"
   ]
  },
  {
   "cell_type": "code",
   "execution_count": 9,
   "id": "8cabb3dd",
   "metadata": {
    "execution": {
     "iopub.execute_input": "2021-12-23T17:57:14.682315Z",
     "iopub.status.busy": "2021-12-23T17:57:14.681634Z",
     "iopub.status.idle": "2021-12-23T17:57:14.683861Z",
     "shell.execute_reply": "2021-12-23T17:57:14.684324Z",
     "shell.execute_reply.started": "2021-12-23T17:48:13.124352Z"
    },
    "papermill": {
     "duration": 0.0687,
     "end_time": "2021-12-23T17:57:14.684521",
     "exception": false,
     "start_time": "2021-12-23T17:57:14.615821",
     "status": "completed"
    },
    "tags": []
   },
   "outputs": [],
   "source": [
    "# derivative features\n",
    "df['CabinCnt'] = cabins.apply(lambda x: 0 if pd.isna(x) else len(x.split(' ')))\n",
    "df['CabinClass'] = cabins.apply(lambda x: str(x)[0])\n",
    "df['IsNumericTicket'] = df.Ticket.apply(lambda x: 1 if x.isnumeric() else 0)\n",
    "df['TicketType'] = df.Ticket.apply(lambda x: ''.join(x.split(' ')[:-1]).replace('.','').replace('/','').lower() if len(x.split(' ')[:-1]) > 0 else 0)\n",
    "df['Title'] = df.Name.apply(lambda x: x.split(',')[1].split('.')[0].strip())\n",
    "df['Family'] = df.SibSp + df.Parch"
   ]
  },
  {
   "cell_type": "code",
   "execution_count": 10,
   "id": "13ca7fed",
   "metadata": {
    "execution": {
     "iopub.execute_input": "2021-12-23T17:57:14.782258Z",
     "iopub.status.busy": "2021-12-23T17:57:14.781423Z",
     "iopub.status.idle": "2021-12-23T17:57:14.799882Z",
     "shell.execute_reply": "2021-12-23T17:57:14.799250Z",
     "shell.execute_reply.started": "2021-12-23T17:48:13.147041Z"
    },
    "papermill": {
     "duration": 0.071018,
     "end_time": "2021-12-23T17:57:14.800040",
     "exception": false,
     "start_time": "2021-12-23T17:57:14.729022",
     "status": "completed"
    },
    "tags": []
   },
   "outputs": [],
   "source": [
    "# feature transform\n",
    "numeric_vars = ['Age', 'SibSp', 'Parch', 'Fare', 'CabinCnt', 'Family']\n",
    "ordinal_vars = ['Pclass']\n",
    "nominal_vars = ['Name', 'Sex', 'Ticket', 'Embarked', 'CabinClass', 'IsNumericTicket', 'TicketType', 'Title']\n",
    "df[nominal_vars] = df[nominal_vars].astype('str')\n",
    "\n",
    "for feature in numeric_vars:\n",
    "    df[feature] = np.log1p(df[feature])\n",
    "\n",
    "scaler = StandardScaler()\n",
    "numeric_vars = df.columns[(df.dtypes != 'object') & (df.columns != 'PassengerId') & (df.columns != 'Survived') & (df.columns != 'IsTrain')]\n",
    "df[numeric_vars] = scaler.fit_transform(df[numeric_vars])"
   ]
  },
  {
   "cell_type": "code",
   "execution_count": 11,
   "id": "d55ea222",
   "metadata": {
    "execution": {
     "iopub.execute_input": "2021-12-23T17:57:14.897897Z",
     "iopub.status.busy": "2021-12-23T17:57:14.897174Z",
     "iopub.status.idle": "2021-12-23T17:57:14.913796Z",
     "shell.execute_reply": "2021-12-23T17:57:14.913215Z",
     "shell.execute_reply.started": "2021-12-23T17:48:13.175111Z"
    },
    "papermill": {
     "duration": 0.069599,
     "end_time": "2021-12-23T17:57:14.913968",
     "exception": false,
     "start_time": "2021-12-23T17:57:14.844369",
     "status": "completed"
    },
    "tags": []
   },
   "outputs": [],
   "source": [
    "# split data\n",
    "df.drop(['PassengerId', 'Name', 'Ticket'], axis=1, inplace=True)\n",
    "data_dummies = pd.get_dummies(df)\n",
    "X_train = data_dummies[data_dummies.Survived.notnull()].drop(['Survived'], axis=1)\n",
    "y_train = data_dummies[data_dummies.Survived.notnull()].Survived\n",
    "X_test = data_dummies[data_dummies.Survived.isnull()].drop(['Survived'], axis=1)"
   ]
  },
  {
   "cell_type": "code",
   "execution_count": 12,
   "id": "7fdab4b2",
   "metadata": {
    "execution": {
     "iopub.execute_input": "2021-12-23T17:57:15.008642Z",
     "iopub.status.busy": "2021-12-23T17:57:15.006419Z",
     "iopub.status.idle": "2021-12-23T17:57:15.011614Z",
     "shell.execute_reply": "2021-12-23T17:57:15.012113Z",
     "shell.execute_reply.started": "2021-12-23T17:48:13.200780Z"
    },
    "papermill": {
     "duration": 0.053639,
     "end_time": "2021-12-23T17:57:15.012282",
     "exception": false,
     "start_time": "2021-12-23T17:57:14.958643",
     "status": "completed"
    },
    "tags": []
   },
   "outputs": [
    {
     "data": {
      "text/plain": [
       "((889, 76), (889,), (418, 76))"
      ]
     },
     "execution_count": 12,
     "metadata": {},
     "output_type": "execute_result"
    }
   ],
   "source": [
    "X_train.shape, y_train.shape, X_test.shape"
   ]
  },
  {
   "cell_type": "code",
   "execution_count": 13,
   "id": "cf183852",
   "metadata": {
    "execution": {
     "iopub.execute_input": "2021-12-23T17:57:15.104850Z",
     "iopub.status.busy": "2021-12-23T17:57:15.104211Z",
     "iopub.status.idle": "2021-12-23T17:57:16.729207Z",
     "shell.execute_reply": "2021-12-23T17:57:16.729770Z",
     "shell.execute_reply.started": "2021-12-23T17:48:13.210194Z"
    },
    "papermill": {
     "duration": 1.672966,
     "end_time": "2021-12-23T17:57:16.729960",
     "exception": false,
     "start_time": "2021-12-23T17:57:15.056994",
     "status": "completed"
    },
    "tags": []
   },
   "outputs": [
    {
     "data": {
      "image/png": "[encoded data removed]",
      "text/plain": [
       "<Figure size 1440x720 with 1 Axes>"
      ]
     },
     "metadata": {
      "needs_background": "light"
     },
     "output_type": "display_data"
    }
   ],
   "source": [
    "selector = RandomForestClassifier().fit(X_train, y_train)\n",
    "\n",
    "imps = pd.DataFrame(selector.feature_importances_, X_train.columns, columns=['Importance'])\n",
    "imps = pd.DataFrame(imps.Importance.sort_values(ascending=False))\n",
    "\n",
    "plt.subplots(figsize=(20, 10))\n",
    "g = sns.barplot(x=imps.index, y=imps.Importance)\n",
    "g.set_xticklabels(g.get_xticklabels(),rotation = 90)\n",
    "plt.show()"
   ]
  },
  {
   "cell_type": "code",
   "execution_count": 14,
   "id": "580c2550",
   "metadata": {
    "execution": {
     "iopub.execute_input": "2021-12-23T17:57:16.833417Z",
     "iopub.status.busy": "2021-12-23T17:57:16.832708Z",
     "iopub.status.idle": "2021-12-23T17:57:16.837604Z",
     "shell.execute_reply": "2021-12-23T17:57:16.836889Z",
     "shell.execute_reply.started": "2021-12-23T17:48:15.037960Z"
    },
    "papermill": {
     "duration": 0.059988,
     "end_time": "2021-12-23T17:57:16.837747",
     "exception": false,
     "start_time": "2021-12-23T17:57:16.777759",
     "status": "completed"
    },
    "tags": []
   },
   "outputs": [],
   "source": [
    "def xgb_gridsearch(params_grid_xgb, features, values, X, y, last=False):\n",
    "    x_train, x_test = train_test_split(X, test_size=.2, random_state=42)\n",
    "    y_train_tmp, y_test_tmp = train_test_split(y, test_size=.2, random_state=42)\n",
    "\n",
    "    cv = RepeatedStratifiedKFold(n_splits = 10, n_repeats = 3, random_state = 42)\n",
    "\n",
    "    model_xgb = XGBClassifier(use_label_encoder = False, \n",
    "                              objective = 'binary:logistic')\n",
    "    \n",
    "    for i in range(len(features)):\n",
    "        params_grid_xgb[features[i]] = values[i]\n",
    "    search_xgb = GridSearchCV(model_xgb, params_grid_xgb, verbose = 0,\n",
    "                              scoring = 'neg_log_loss', cv = cv).fit(x_train, y_train_tmp, early_stopping_rounds = 15, \n",
    "                                  eval_set = [[x_test, y_test_tmp]], \n",
    "                                  eval_metric = 'logloss', verbose = False)\n",
    "    for i in range(len(features)):\n",
    "        print(f\"{features[i]}: {search_xgb.best_params_[features[i]]}\")\n",
    "    if not last:\n",
    "        for k, v in search_xgb.best_params_.items():\n",
    "            search_xgb.best_params_[k] = [v]\n",
    "    return search_xgb, search_xgb.best_params_"
   ]
  },
  {
   "cell_type": "code",
   "execution_count": 15,
   "id": "ec705618",
   "metadata": {
    "execution": {
     "iopub.execute_input": "2021-12-23T17:57:16.936257Z",
     "iopub.status.busy": "2021-12-23T17:57:16.935607Z",
     "iopub.status.idle": "2021-12-23T17:57:16.938918Z",
     "shell.execute_reply": "2021-12-23T17:57:16.938342Z",
     "shell.execute_reply.started": "2021-12-23T17:48:15.051095Z"
    },
    "papermill": {
     "duration": 0.054715,
     "end_time": "2021-12-23T17:57:16.939109",
     "exception": false,
     "start_time": "2021-12-23T17:57:16.884394",
     "status": "completed"
    },
    "tags": []
   },
   "outputs": [],
   "source": [
    "allow_tuning = False"
   ]
  },
  {
   "cell_type": "code",
   "execution_count": 16,
   "id": "49c4e000",
   "metadata": {
    "execution": {
     "iopub.execute_input": "2021-12-23T17:57:17.041917Z",
     "iopub.status.busy": "2021-12-23T17:57:17.041238Z",
     "iopub.status.idle": "2021-12-23T17:57:17.042724Z",
     "shell.execute_reply": "2021-12-23T17:57:17.043246Z",
     "shell.execute_reply.started": "2021-12-23T17:48:15.065871Z"
    },
    "papermill": {
     "duration": 0.056271,
     "end_time": "2021-12-23T17:57:17.043416",
     "exception": false,
     "start_time": "2021-12-23T17:57:16.987145",
     "status": "completed"
    },
    "tags": []
   },
   "outputs": [],
   "source": [
    "from sklearn.neighbors import  KNeighborsClassifier as knn\n",
    "if allow_tuning:\n",
    "    params_knn = {\n",
    "        'n_neighbors' : range(1, 10),\n",
    "        'weights' : ['uniform', 'distance'],\n",
    "        'algorithm' : ['auto', 'ball_tree','kd_tree'],\n",
    "        'p' : [1,2]\n",
    "    }\n",
    "    model_knn = knn()\n",
    "    search_knn = GridSearchCV(model_knn, params_knn, cv=5, scoring='accuracy', n_jobs=-1, verbose=1).fit(X_train, y_train)\n",
    "    print(search_knn.best_params_)"
   ]
  },
  {
   "cell_type": "code",
   "execution_count": 17,
   "id": "916e7bc8",
   "metadata": {
    "execution": {
     "iopub.execute_input": "2021-12-23T17:57:17.147634Z",
     "iopub.status.busy": "2021-12-23T17:57:17.146656Z",
     "iopub.status.idle": "2021-12-23T17:57:17.150771Z",
     "shell.execute_reply": "2021-12-23T17:57:17.149904Z",
     "shell.execute_reply.started": "2021-12-23T17:48:15.077015Z"
    },
    "papermill": {
     "duration": 0.061248,
     "end_time": "2021-12-23T17:57:17.150992",
     "exception": false,
     "start_time": "2021-12-23T17:57:17.089744",
     "status": "completed"
    },
    "tags": []
   },
   "outputs": [],
   "source": [
    "if allow_tuning:\n",
    "    params_logistic = {\n",
    "        'max_iter': [2000],\n",
    "        'penalty': ['l1', 'l2'],\n",
    "        'C': np.logspace(-4, 4, 20),\n",
    "        'solver': ['liblinear']\n",
    "    }\n",
    "    model_logistic = LogisticRegression()\n",
    "    search_logistic = GridSearchCV(model_logistic, params_logistic, cv=5, scoring='accuracy', n_jobs=-1, verbose=1).fit(X_train, y_train)\n",
    "    print(search_logistic.best_params_)"
   ]
  },
  {
   "cell_type": "code",
   "execution_count": 18,
   "id": "4970b26b",
   "metadata": {
    "execution": {
     "iopub.execute_input": "2021-12-23T17:57:17.270477Z",
     "iopub.status.busy": "2021-12-23T17:57:17.269338Z",
     "iopub.status.idle": "2021-12-23T17:57:17.271993Z",
     "shell.execute_reply": "2021-12-23T17:57:17.271263Z",
     "shell.execute_reply.started": "2021-12-23T17:48:15.090241Z"
    },
    "papermill": {
     "duration": 0.062057,
     "end_time": "2021-12-23T17:57:17.272179",
     "exception": false,
     "start_time": "2021-12-23T17:57:17.210122",
     "status": "completed"
    },
    "tags": []
   },
   "outputs": [],
   "source": [
    "if allow_tuning:\n",
    "    params_svc = [{'kernel': ['rbf'], 'gamma': [.01, .1, .5, 1, 2, 5, 10], 'C': [.1, 1, 10, 100, 1000], 'probability': [True]},\n",
    "                  {'kernel': ['poly'], 'degree' : [2, 3, 4, 5], 'C': [.01, .1, 1, 10, 100, 1000], 'probability': [True]}]\n",
    "    model_svc = SVC()\n",
    "    search_svc = GridSearchCV(model_svc, params_svc, cv=5, scoring='accuracy', n_jobs=-1, verbose=1).fit(X_train, y_train)\n",
    "    print(search_svc.best_params_)"
   ]
  },
  {
   "cell_type": "code",
   "execution_count": 19,
   "id": "4145f8b6",
   "metadata": {
    "execution": {
     "iopub.execute_input": "2021-12-23T17:57:17.373130Z",
     "iopub.status.busy": "2021-12-23T17:57:17.372111Z",
     "iopub.status.idle": "2021-12-23T17:57:17.380713Z",
     "shell.execute_reply": "2021-12-23T17:57:17.381590Z",
     "shell.execute_reply.started": "2021-12-23T17:48:15.100788Z"
    },
    "papermill": {
     "duration": 0.062209,
     "end_time": "2021-12-23T17:57:17.381837",
     "exception": false,
     "start_time": "2021-12-23T17:57:17.319628",
     "status": "completed"
    },
    "tags": []
   },
   "outputs": [],
   "source": [
    "if allow_tuning:\n",
    "    params_svc = {'kernel': ['rbf'], 'gamma': [i/10000 for i in range(90, 110)], 'C': range(50, 80, 10), 'probability': [True]}\n",
    "    model_svc = SVC()\n",
    "    search_svc = GridSearchCV(model_svc, params_svc, cv=5, scoring='accuracy', n_jobs=-1, verbose=1).fit(X_train, y_train)\n",
    "    print(search_svc.best_params_)"
   ]
  },
  {
   "cell_type": "code",
   "execution_count": 20,
   "id": "c1a445ea",
   "metadata": {
    "execution": {
     "iopub.execute_input": "2021-12-23T17:57:17.499071Z",
     "iopub.status.busy": "2021-12-23T17:57:17.498003Z",
     "iopub.status.idle": "2021-12-23T17:57:17.505299Z",
     "shell.execute_reply": "2021-12-23T17:57:17.505929Z",
     "shell.execute_reply.started": "2021-12-23T17:48:15.115240Z"
    },
    "papermill": {
     "duration": 0.062784,
     "end_time": "2021-12-23T17:57:17.506116",
     "exception": false,
     "start_time": "2021-12-23T17:57:17.443332",
     "status": "completed"
    },
    "tags": []
   },
   "outputs": [],
   "source": [
    "if allow_tuning:\n",
    "    params_rf = {\n",
    "        'n_estimators': [95, 100, 105],\n",
    "        'criterion':['entropy'],\n",
    "        'bootstrap': [True, False],\n",
    "        'max_depth': [40, 45, 50],\n",
    "        'max_features': [4, 5, 6],\n",
    "        'min_samples_leaf': [1, 2, 3],\n",
    "        'min_samples_split': [9, 10, 11],\n",
    "        'random_state': [734]}\n",
    "    model_rf = RandomForestClassifier()\n",
    "    search_rf = GridSearchCV(model_rf, params_rf, cv=5, scoring='accuracy', n_jobs=-1, verbose=1).fit(X_train, y_train)\n",
    "    search_rf.best_params_['random_state']=242\n",
    "    search_rf.best_estimator_.random_state=242\n",
    "    print(search_rf.best_params_)"
   ]
  },
  {
   "cell_type": "code",
   "execution_count": 21,
   "id": "c59f204a",
   "metadata": {
    "execution": {
     "iopub.execute_input": "2021-12-23T17:57:17.605527Z",
     "iopub.status.busy": "2021-12-23T17:57:17.604502Z",
     "iopub.status.idle": "2021-12-23T17:57:17.620210Z",
     "shell.execute_reply": "2021-12-23T17:57:17.620843Z",
     "shell.execute_reply.started": "2021-12-23T17:48:15.125876Z"
    },
    "papermill": {
     "duration": 0.066645,
     "end_time": "2021-12-23T17:57:17.621036",
     "exception": false,
     "start_time": "2021-12-23T17:57:17.554391",
     "status": "completed"
    },
    "tags": []
   },
   "outputs": [],
   "source": [
    "if allow_tuning:\n",
    "    # Initial params.\n",
    "    params_xgb = {'n_estimators': [1000],\n",
    "                  'learning_rate': [0.1],\n",
    "                  'max_depth': [5],\n",
    "                  'min_child_weight': [1],\n",
    "                  'gamma': [0],\n",
    "                  'subsample': [0.8],\n",
    "                  'colsample_bytree': [0.8],\n",
    "                  'n_jobs': [-1],\n",
    "                  'objective': ['binary:logistic'],\n",
    "                  'use_label_encoder': [False],\n",
    "                  'eval_metric': ['logloss'],\n",
    "                  'scale_pos_weight': [1]}\n",
    "    \n",
    "    # learning rate tuning.\n",
    "    search_xgb, params_xgb = xgb_gridsearch(params_xgb, \n",
    "                                            ['learning_rate'], \n",
    "                                            [[0.01, 0.02, 0.03, 0.04, 0.05, 0.06, 0.07, 0.08, 0.09, 0.1, 0.15, 0.2]],\n",
    "                                            X_train, y_train)\n",
    "    # max_depth, min_child_weight tuning.\n",
    "    search_xgb, params_xgb = xgb_gridsearch(params_xgb,\n",
    "                                            ['max_depth', 'min_child_weight'],\n",
    "                                            [range(3, 10), range(1, 6)],\n",
    "                                            X_train, y_train)\n",
    "    \n",
    "    # gamma tuning.\n",
    "    search_xgb, params_xgb = xgb_gridsearch(params_xgb,\n",
    "                                            ['gamma'],\n",
    "                                            [[0, 0.1, 0.2, 0.3, 0.4, 0.5, 0.6, 0.7, 0.8, 0.9, 1, 2]],\n",
    "                                            X_train, y_train)\n",
    "    search_xgb, params_xgb = xgb_gridsearch(params_xgb,\n",
    "                                            ['subsample', 'colsample_bytree'],\n",
    "                                            [[i/100.0 for i in range(75,90,5)], [i/100.0 for i in range(75,90,5)]],\n",
    "                                            X_train, y_train)\n",
    "    \n",
    "    # reg_alpha tuning.\n",
    "    search_xgb, params_xgb = xgb_gridsearch(params_xgb,\n",
    "                                            ['reg_alpha'], \n",
    "                                            [[1e-5, 1e-2, 0.1, 1, 100]], \n",
    "                                            X_train, y_train)\n",
    "    \n",
    "    # learning rate re tuning.\n",
    "    params_xgb['n_estimators'] = [5000]\n",
    "    search_xgb, params_xgb = xgb_gridsearch(params_xgb,\n",
    "                                            ['learning_rate'],\n",
    "                                            [[0.001, 0.005, 0.01, 0.02, 0.03, 0.04, 0.05, 0.06, 0.07, 0.08, 0.09, 0.1, 0.15, 0.2]],\n",
    "                                            X_train, y_train, last=True)\n",
    "\n",
    "    x_train, x_test = train_test_split(X_train, test_size=.2, random_state=42)\n",
    "    y_train_tmp, y_test_tmp = train_test_split(y_train, test_size=.2, random_state=42)\n",
    "    model_xgb = XGBClassifier(**params_xgb)\n",
    "    \n",
    "    # n_estimators tuning.\n",
    "    model_xgb = model_xgb.fit(x_train, y_train_tmp, eval_set=[(x_test, y_test_tmp)], eval_metric=['logloss'], early_stopping_rounds=15, verbose=0)\n",
    "    search_xgb.best_estimator_.n_estimators = model_xgb.best_iteration"
   ]
  },
  {
   "cell_type": "code",
   "execution_count": 22,
   "id": "01f33471",
   "metadata": {
    "execution": {
     "iopub.execute_input": "2021-12-23T17:57:17.719181Z",
     "iopub.status.busy": "2021-12-23T17:57:17.718123Z",
     "iopub.status.idle": "2021-12-23T17:57:17.730363Z",
     "shell.execute_reply": "2021-12-23T17:57:17.730930Z",
     "shell.execute_reply.started": "2021-12-23T17:48:15.143829Z"
    },
    "papermill": {
     "duration": 0.062874,
     "end_time": "2021-12-23T17:57:17.731107",
     "exception": false,
     "start_time": "2021-12-23T17:57:17.668233",
     "status": "completed"
    },
    "tags": []
   },
   "outputs": [],
   "source": [
    "if allow_tuning:\n",
    "    model_knn = search_knn.best_estimator_\n",
    "    model_logistic = search_logistic.best_estimator_\n",
    "    model_svc = search_svc.best_estimator_\n",
    "    model_rf = search_rf.best_estimator_\n",
    "    model_xgb = search_xgb.best_estimator_\n",
    "else:\n",
    "    model_knn = knn(algorithm='auto', \n",
    "                    n_neighbors=9,\n",
    "                    p=1, \n",
    "                    weights='uniform')\n",
    "    \n",
    "    model_logistic = LogisticRegression(C=0.08858667904100823,\n",
    "                                        max_iter=2000, \n",
    "                                        penalty='l2', \n",
    "                                        solver='liblinear')\n",
    "    model_svc = SVC(C=70,\n",
    "                    gamma=0.0106,\n",
    "                    kernel='rbf',\n",
    "                    probability=True)\n",
    "    \n",
    "    model_rf = RandomForestClassifier(bootstrap=True,\n",
    "                                      criterion='entropy',\n",
    "                                      max_depth=50, max_features=6, \n",
    "                                      min_samples_leaf=1, \n",
    "                                      min_samples_split=10, \n",
    "                                      n_estimators=100,\n",
    "                                      random_state=734)\n",
    "    \n",
    "    model_xgb = XGBClassifier(base_score=0.5, booster='gbtree', colsample_bylevel=1,\n",
    "                              colsample_bynode=1, colsample_bytree=0.8,\n",
    "                              enable_categorical=False, eval_metric='logloss', gamma=0.8,gpu_id=-1, importance_type=None, interaction_constraints='',\n",
    "                              learning_rate=0.15, max_delta_step=0, max_depth=5,\n",
    "                              min_child_weight=1, missing=np.nan, monotone_constraints='()',\n",
    "                              n_estimators=15, n_jobs=-1, num_parallel_tree=1, predictor='auto',\n",
    "                              random_state=0, reg_alpha=1e-05, reg_lambda=1, scale_pos_weight=1,\n",
    "                              subsample=0.8, tree_method='exact', use_label_encoder=False,\n",
    "                              validate_parameters=1, verbosity=0)\n",
    "\n",
    "models = {\n",
    "    'knn': model_knn,\n",
    "    'logistic': model_logistic,\n",
    "    'svc': model_svc,\n",
    "    'rf': model_rf,\n",
    "    'xgb': model_xgb\n",
    "}"
   ]
  },
  {
   "cell_type": "code",
   "execution_count": 23,
   "id": "126c22d7",
   "metadata": {
    "execution": {
     "iopub.execute_input": "2021-12-23T17:57:17.827792Z",
     "iopub.status.busy": "2021-12-23T17:57:17.826802Z",
     "iopub.status.idle": "2021-12-23T17:57:17.834055Z",
     "shell.execute_reply": "2021-12-23T17:57:17.834580Z",
     "shell.execute_reply.started": "2021-12-23T17:48:15.158645Z"
    },
    "papermill": {
     "duration": 0.057015,
     "end_time": "2021-12-23T17:57:17.834762",
     "exception": false,
     "start_time": "2021-12-23T17:57:17.777747",
     "status": "completed"
    },
    "tags": []
   },
   "outputs": [],
   "source": [
    "import copy\n",
    "\n",
    "# goal: The number of models to combine.\n",
    "# estimaors: empty list.\n",
    "# voting: voting method.\n",
    "def select_models(start, cnt, goal, estimators, voting):\n",
    "    if cnt == goal:\n",
    "        estimators_copy = copy.deepcopy(estimators)\n",
    "        voting_name = f'{voting}_' + '_'.join([i[0] for i in list(estimators_copy)])\n",
    "        models[voting_name] = VotingClassifier(estimators=estimators_copy, voting=voting)\n",
    "        return\n",
    "    for i in range(start, 5):\n",
    "        estimators.append(list(models.items())[i])\n",
    "        select_models(i + 1, cnt + 1, goal, estimators, voting)\n",
    "        estimators.pop()"
   ]
  },
  {
   "cell_type": "code",
   "execution_count": 24,
   "id": "a20a304b",
   "metadata": {
    "execution": {
     "iopub.execute_input": "2021-12-23T17:57:17.939619Z",
     "iopub.status.busy": "2021-12-23T17:57:17.938632Z",
     "iopub.status.idle": "2021-12-23T17:57:17.958354Z",
     "shell.execute_reply": "2021-12-23T17:57:17.958904Z",
     "shell.execute_reply.started": "2021-12-23T17:48:15.174144Z"
    },
    "papermill": {
     "duration": 0.074442,
     "end_time": "2021-12-23T17:57:17.959081",
     "exception": false,
     "start_time": "2021-12-23T17:57:17.884639",
     "status": "completed"
    },
    "tags": []
   },
   "outputs": [],
   "source": [
    "# create voting models\n",
    "select_models(0, 0, 2, [], 'hard')\n",
    "select_models(0, 0, 3, [], 'hard')\n",
    "select_models(0, 0, 4, [], 'hard')\n",
    "select_models(0, 0, 5, [], 'hard')\n",
    "\n",
    "select_models(0, 0, 2, [], 'soft')\n",
    "select_models(0, 0, 3, [], 'soft')\n",
    "select_models(0, 0, 4, [], 'soft')\n",
    "select_models(0, 0, 5, [], 'soft')"
   ]
  },
  {
   "cell_type": "code",
   "execution_count": 25,
   "id": "f61d3e22",
   "metadata": {
    "execution": {
     "iopub.execute_input": "2021-12-23T17:57:18.056705Z",
     "iopub.status.busy": "2021-12-23T17:57:18.055731Z",
     "iopub.status.idle": "2021-12-23T17:57:18.060567Z",
     "shell.execute_reply": "2021-12-23T17:57:18.061107Z",
     "shell.execute_reply.started": "2021-12-23T17:48:15.199107Z"
    },
    "papermill": {
     "duration": 0.055573,
     "end_time": "2021-12-23T17:57:18.061275",
     "exception": false,
     "start_time": "2021-12-23T17:57:18.005702",
     "status": "completed"
    },
    "tags": []
   },
   "outputs": [],
   "source": [
    "# Dictionary for storing results for each model.\n",
    "result_by_model = pd.DataFrame({'model name': models.keys(), 'model': models.values(), 'score': 0})"
   ]
  },
  {
   "cell_type": "code",
   "execution_count": 26,
   "id": "1d8f0d24",
   "metadata": {
    "execution": {
     "iopub.execute_input": "2021-12-23T17:57:18.158348Z",
     "iopub.status.busy": "2021-12-23T17:57:18.157305Z",
     "iopub.status.idle": "2021-12-23T17:58:58.353327Z",
     "shell.execute_reply": "2021-12-23T17:58:58.353948Z",
     "shell.execute_reply.started": "2021-12-23T17:48:15.206733Z"
    },
    "papermill": {
     "duration": 100.246269,
     "end_time": "2021-12-23T17:58:58.354202",
     "exception": false,
     "start_time": "2021-12-23T17:57:18.107933",
     "status": "completed"
    },
    "tags": []
   },
   "outputs": [],
   "source": [
    "# Cross-validation progresses for all models.\n",
    "for name, model in models.items():\n",
    "    result_by_model.loc[result_by_model['model name'] == name, 'score'] = cross_val_score(model, X_train,y_train,cv=5).mean()"
   ]
  },
  {
   "cell_type": "code",
   "execution_count": 27,
   "id": "c457326e",
   "metadata": {
    "execution": {
     "iopub.execute_input": "2021-12-23T17:58:58.491414Z",
     "iopub.status.busy": "2021-12-23T17:58:58.490735Z",
     "iopub.status.idle": "2021-12-23T17:58:59.478464Z",
     "shell.execute_reply": "2021-12-23T17:58:59.478961Z",
     "shell.execute_reply.started": "2021-12-23T17:49:54.452070Z"
    },
    "papermill": {
     "duration": 1.042343,
     "end_time": "2021-12-23T17:58:59.479136",
     "exception": false,
     "start_time": "2021-12-23T17:58:58.436793",
     "status": "completed"
    },
    "tags": []
   },
   "outputs": [
    {
     "data": {
      "text/html": [
       "<div>\n",
       "<style scoped>\n",
       "    .dataframe tbody tr th:only-of-type {\n",
       "        vertical-align: middle;\n",
       "    }\n",
       "\n",
       "    .dataframe tbody tr th {\n",
       "        vertical-align: top;\n",
       "    }\n",
       "\n",
       "    .dataframe thead th {\n",
       "        text-align: right;\n",
       "    }\n",
       "</style>\n",
       "<table border=\"1\" class=\"dataframe\">\n",
       "  <thead>\n",
       "    <tr style=\"text-align: right;\">\n",
       "      <th></th>\n",
       "      <th>model name</th>\n",
       "      <th>model</th>\n",
       "      <th>score</th>\n",
       "    </tr>\n",
       "  </thead>\n",
       "  <tbody>\n",
       "    <tr>\n",
       "      <th>0</th>\n",
       "      <td>hard_logistic_svc_xgb</td>\n",
       "      <td>VotingClassifier(estimators=[('logistic',\\n   ...</td>\n",
       "      <td>0.839167</td>\n",
       "    </tr>\n",
       "    <tr>\n",
       "      <th>1</th>\n",
       "      <td>hard_svc_xgb</td>\n",
       "      <td>VotingClassifier(estimators=[('svc', SVC(C=70,...</td>\n",
       "      <td>0.838044</td>\n",
       "    </tr>\n",
       "    <tr>\n",
       "      <th>2</th>\n",
       "      <td>hard_knn_svc_xgb</td>\n",
       "      <td>VotingClassifier(estimators=[('knn', KNeighbor...</td>\n",
       "      <td>0.836926</td>\n",
       "    </tr>\n",
       "    <tr>\n",
       "      <th>3</th>\n",
       "      <td>hard_svc_rf</td>\n",
       "      <td>VotingClassifier(estimators=[('svc', SVC(C=70,...</td>\n",
       "      <td>0.835803</td>\n",
       "    </tr>\n",
       "    <tr>\n",
       "      <th>4</th>\n",
       "      <td>hard_logistic_svc_rf_xgb</td>\n",
       "      <td>VotingClassifier(estimators=[('logistic',\\n   ...</td>\n",
       "      <td>0.835784</td>\n",
       "    </tr>\n",
       "    <tr>\n",
       "      <th>5</th>\n",
       "      <td>svc</td>\n",
       "      <td>SVC(C=70, gamma=0.0106, probability=True)</td>\n",
       "      <td>0.834685</td>\n",
       "    </tr>\n",
       "    <tr>\n",
       "      <th>6</th>\n",
       "      <td>soft_logistic_svc_xgb</td>\n",
       "      <td>VotingClassifier(estimators=[('logistic',\\n   ...</td>\n",
       "      <td>0.833549</td>\n",
       "    </tr>\n",
       "    <tr>\n",
       "      <th>7</th>\n",
       "      <td>soft_logistic_xgb</td>\n",
       "      <td>VotingClassifier(estimators=[('logistic',\\n   ...</td>\n",
       "      <td>0.833543</td>\n",
       "    </tr>\n",
       "    <tr>\n",
       "      <th>8</th>\n",
       "      <td>soft_knn_svc_rf_xgb</td>\n",
       "      <td>VotingClassifier(estimators=[('knn', KNeighbor...</td>\n",
       "      <td>0.832432</td>\n",
       "    </tr>\n",
       "    <tr>\n",
       "      <th>9</th>\n",
       "      <td>hard_knn_logistic_svc_rf_xgb</td>\n",
       "      <td>VotingClassifier(estimators=[('knn', KNeighbor...</td>\n",
       "      <td>0.832432</td>\n",
       "    </tr>\n",
       "    <tr>\n",
       "      <th>10</th>\n",
       "      <td>soft_svc_xgb</td>\n",
       "      <td>VotingClassifier(estimators=[('svc', SVC(C=70,...</td>\n",
       "      <td>0.832432</td>\n",
       "    </tr>\n",
       "    <tr>\n",
       "      <th>11</th>\n",
       "      <td>hard_logistic_svc_rf</td>\n",
       "      <td>VotingClassifier(estimators=[('logistic',\\n   ...</td>\n",
       "      <td>0.832426</td>\n",
       "    </tr>\n",
       "    <tr>\n",
       "      <th>12</th>\n",
       "      <td>hard_knn_svc_rf_xgb</td>\n",
       "      <td>VotingClassifier(estimators=[('knn', KNeighbor...</td>\n",
       "      <td>0.832426</td>\n",
       "    </tr>\n",
       "    <tr>\n",
       "      <th>13</th>\n",
       "      <td>hard_knn_svc_rf</td>\n",
       "      <td>VotingClassifier(estimators=[('knn', KNeighbor...</td>\n",
       "      <td>0.831315</td>\n",
       "    </tr>\n",
       "    <tr>\n",
       "      <th>14</th>\n",
       "      <td>soft_svc_rf</td>\n",
       "      <td>VotingClassifier(estimators=[('svc', SVC(C=70,...</td>\n",
       "      <td>0.831315</td>\n",
       "    </tr>\n",
       "    <tr>\n",
       "      <th>15</th>\n",
       "      <td>hard_rf_xgb</td>\n",
       "      <td>VotingClassifier(estimators=[('rf',\\n         ...</td>\n",
       "      <td>0.831289</td>\n",
       "    </tr>\n",
       "    <tr>\n",
       "      <th>16</th>\n",
       "      <td>xgb</td>\n",
       "      <td>XGBClassifier(base_score=0.5, booster='gbtree'...</td>\n",
       "      <td>0.831277</td>\n",
       "    </tr>\n",
       "    <tr>\n",
       "      <th>17</th>\n",
       "      <td>soft_svc_rf_xgb</td>\n",
       "      <td>VotingClassifier(estimators=[('svc', SVC(C=70,...</td>\n",
       "      <td>0.830178</td>\n",
       "    </tr>\n",
       "    <tr>\n",
       "      <th>18</th>\n",
       "      <td>soft_logistic_svc_rf_xgb</td>\n",
       "      <td>VotingClassifier(estimators=[('logistic',\\n   ...</td>\n",
       "      <td>0.830178</td>\n",
       "    </tr>\n",
       "    <tr>\n",
       "      <th>19</th>\n",
       "      <td>soft_logistic_rf_xgb</td>\n",
       "      <td>VotingClassifier(estimators=[('logistic',\\n   ...</td>\n",
       "      <td>0.830159</td>\n",
       "    </tr>\n",
       "    <tr>\n",
       "      <th>20</th>\n",
       "      <td>soft_knn_svc_rf</td>\n",
       "      <td>VotingClassifier(estimators=[('knn', KNeighbor...</td>\n",
       "      <td>0.829067</td>\n",
       "    </tr>\n",
       "    <tr>\n",
       "      <th>21</th>\n",
       "      <td>soft_knn_svc_xgb</td>\n",
       "      <td>VotingClassifier(estimators=[('knn', KNeighbor...</td>\n",
       "      <td>0.829061</td>\n",
       "    </tr>\n",
       "    <tr>\n",
       "      <th>22</th>\n",
       "      <td>hard_logistic_rf_xgb</td>\n",
       "      <td>VotingClassifier(estimators=[('logistic',\\n   ...</td>\n",
       "      <td>0.829036</td>\n",
       "    </tr>\n",
       "    <tr>\n",
       "      <th>23</th>\n",
       "      <td>hard_svc_rf_xgb</td>\n",
       "      <td>VotingClassifier(estimators=[('svc', SVC(C=70,...</td>\n",
       "      <td>0.829036</td>\n",
       "    </tr>\n",
       "    <tr>\n",
       "      <th>24</th>\n",
       "      <td>soft_logistic_svc_rf</td>\n",
       "      <td>VotingClassifier(estimators=[('logistic',\\n   ...</td>\n",
       "      <td>0.827938</td>\n",
       "    </tr>\n",
       "    <tr>\n",
       "      <th>25</th>\n",
       "      <td>soft_knn_logistic_svc_rf_xgb</td>\n",
       "      <td>VotingClassifier(estimators=[('knn', KNeighbor...</td>\n",
       "      <td>0.827925</td>\n",
       "    </tr>\n",
       "    <tr>\n",
       "      <th>26</th>\n",
       "      <td>soft_logistic_svc</td>\n",
       "      <td>VotingClassifier(estimators=[('logistic',\\n   ...</td>\n",
       "      <td>0.826814</td>\n",
       "    </tr>\n",
       "    <tr>\n",
       "      <th>27</th>\n",
       "      <td>soft_knn_logistic_svc_xgb</td>\n",
       "      <td>VotingClassifier(estimators=[('knn', KNeighbor...</td>\n",
       "      <td>0.826808</td>\n",
       "    </tr>\n",
       "    <tr>\n",
       "      <th>28</th>\n",
       "      <td>hard_knn_logistic_svc_xgb</td>\n",
       "      <td>VotingClassifier(estimators=[('knn', KNeighbor...</td>\n",
       "      <td>0.826789</td>\n",
       "    </tr>\n",
       "    <tr>\n",
       "      <th>29</th>\n",
       "      <td>soft_rf_xgb</td>\n",
       "      <td>VotingClassifier(estimators=[('rf',\\n         ...</td>\n",
       "      <td>0.826789</td>\n",
       "    </tr>\n",
       "    <tr>\n",
       "      <th>30</th>\n",
       "      <td>hard_knn_rf_xgb</td>\n",
       "      <td>VotingClassifier(estimators=[('knn', KNeighbor...</td>\n",
       "      <td>0.825671</td>\n",
       "    </tr>\n",
       "    <tr>\n",
       "      <th>31</th>\n",
       "      <td>hard_logistic_svc</td>\n",
       "      <td>VotingClassifier(estimators=[('logistic',\\n   ...</td>\n",
       "      <td>0.823430</td>\n",
       "    </tr>\n",
       "    <tr>\n",
       "      <th>32</th>\n",
       "      <td>hard_knn_logistic_svc_rf</td>\n",
       "      <td>VotingClassifier(estimators=[('knn', KNeighbor...</td>\n",
       "      <td>0.823424</td>\n",
       "    </tr>\n",
       "    <tr>\n",
       "      <th>33</th>\n",
       "      <td>rf</td>\n",
       "      <td>RandomForestClassifier(criterion='entropy', ma...</td>\n",
       "      <td>0.823418</td>\n",
       "    </tr>\n",
       "    <tr>\n",
       "      <th>34</th>\n",
       "      <td>hard_knn_xgb</td>\n",
       "      <td>VotingClassifier(estimators=[('knn', KNeighbor...</td>\n",
       "      <td>0.823405</td>\n",
       "    </tr>\n",
       "    <tr>\n",
       "      <th>35</th>\n",
       "      <td>hard_knn_svc</td>\n",
       "      <td>VotingClassifier(estimators=[('knn', KNeighbor...</td>\n",
       "      <td>0.822301</td>\n",
       "    </tr>\n",
       "    <tr>\n",
       "      <th>36</th>\n",
       "      <td>soft_knn_xgb</td>\n",
       "      <td>VotingClassifier(estimators=[('knn', KNeighbor...</td>\n",
       "      <td>0.822288</td>\n",
       "    </tr>\n",
       "    <tr>\n",
       "      <th>37</th>\n",
       "      <td>soft_knn_rf_xgb</td>\n",
       "      <td>VotingClassifier(estimators=[('knn', KNeighbor...</td>\n",
       "      <td>0.822288</td>\n",
       "    </tr>\n",
       "    <tr>\n",
       "      <th>38</th>\n",
       "      <td>soft_knn_svc</td>\n",
       "      <td>VotingClassifier(estimators=[('knn', KNeighbor...</td>\n",
       "      <td>0.821196</td>\n",
       "    </tr>\n",
       "    <tr>\n",
       "      <th>39</th>\n",
       "      <td>soft_knn_rf</td>\n",
       "      <td>VotingClassifier(estimators=[('knn', KNeighbor...</td>\n",
       "      <td>0.821177</td>\n",
       "    </tr>\n",
       "    <tr>\n",
       "      <th>40</th>\n",
       "      <td>soft_knn_logistic_rf_xgb</td>\n",
       "      <td>VotingClassifier(estimators=[('knn', KNeighbor...</td>\n",
       "      <td>0.821171</td>\n",
       "    </tr>\n",
       "    <tr>\n",
       "      <th>41</th>\n",
       "      <td>hard_knn_logistic_rf_xgb</td>\n",
       "      <td>VotingClassifier(estimators=[('knn', KNeighbor...</td>\n",
       "      <td>0.820047</td>\n",
       "    </tr>\n",
       "    <tr>\n",
       "      <th>42</th>\n",
       "      <td>hard_knn_logistic_svc</td>\n",
       "      <td>VotingClassifier(estimators=[('knn', KNeighbor...</td>\n",
       "      <td>0.820041</td>\n",
       "    </tr>\n",
       "    <tr>\n",
       "      <th>43</th>\n",
       "      <td>hard_knn_rf</td>\n",
       "      <td>VotingClassifier(estimators=[('knn', KNeighbor...</td>\n",
       "      <td>0.820034</td>\n",
       "    </tr>\n",
       "    <tr>\n",
       "      <th>44</th>\n",
       "      <td>soft_logistic_rf</td>\n",
       "      <td>VotingClassifier(estimators=[('logistic',\\n   ...</td>\n",
       "      <td>0.818930</td>\n",
       "    </tr>\n",
       "    <tr>\n",
       "      <th>45</th>\n",
       "      <td>soft_knn_logistic_svc_rf</td>\n",
       "      <td>VotingClassifier(estimators=[('knn', KNeighbor...</td>\n",
       "      <td>0.817806</td>\n",
       "    </tr>\n",
       "    <tr>\n",
       "      <th>46</th>\n",
       "      <td>hard_knn_logistic_xgb</td>\n",
       "      <td>VotingClassifier(estimators=[('knn', KNeighbor...</td>\n",
       "      <td>0.817800</td>\n",
       "    </tr>\n",
       "    <tr>\n",
       "      <th>47</th>\n",
       "      <td>hard_logistic_rf</td>\n",
       "      <td>VotingClassifier(estimators=[('logistic',\\n   ...</td>\n",
       "      <td>0.817793</td>\n",
       "    </tr>\n",
       "    <tr>\n",
       "      <th>48</th>\n",
       "      <td>hard_logistic_xgb</td>\n",
       "      <td>VotingClassifier(estimators=[('logistic',\\n   ...</td>\n",
       "      <td>0.817787</td>\n",
       "    </tr>\n",
       "    <tr>\n",
       "      <th>49</th>\n",
       "      <td>soft_knn_logistic_svc</td>\n",
       "      <td>VotingClassifier(estimators=[('knn', KNeighbor...</td>\n",
       "      <td>0.816689</td>\n",
       "    </tr>\n",
       "    <tr>\n",
       "      <th>50</th>\n",
       "      <td>soft_knn_logistic_rf</td>\n",
       "      <td>VotingClassifier(estimators=[('knn', KNeighbor...</td>\n",
       "      <td>0.816683</td>\n",
       "    </tr>\n",
       "    <tr>\n",
       "      <th>51</th>\n",
       "      <td>soft_knn_logistic_xgb</td>\n",
       "      <td>VotingClassifier(estimators=[('knn', KNeighbor...</td>\n",
       "      <td>0.816676</td>\n",
       "    </tr>\n",
       "    <tr>\n",
       "      <th>52</th>\n",
       "      <td>logistic</td>\n",
       "      <td>LogisticRegression(C=0.08858667904100823, max_...</td>\n",
       "      <td>0.813312</td>\n",
       "    </tr>\n",
       "    <tr>\n",
       "      <th>53</th>\n",
       "      <td>soft_knn_logistic</td>\n",
       "      <td>VotingClassifier(estimators=[('knn', KNeighbor...</td>\n",
       "      <td>0.813299</td>\n",
       "    </tr>\n",
       "    <tr>\n",
       "      <th>54</th>\n",
       "      <td>hard_knn_logistic_rf</td>\n",
       "      <td>VotingClassifier(estimators=[('knn', KNeighbor...</td>\n",
       "      <td>0.812188</td>\n",
       "    </tr>\n",
       "    <tr>\n",
       "      <th>55</th>\n",
       "      <td>hard_knn_logistic</td>\n",
       "      <td>VotingClassifier(estimators=[('knn', KNeighbor...</td>\n",
       "      <td>0.812169</td>\n",
       "    </tr>\n",
       "    <tr>\n",
       "      <th>56</th>\n",
       "      <td>knn</td>\n",
       "      <td>KNeighborsClassifier(n_neighbors=9, p=1)</td>\n",
       "      <td>0.812169</td>\n",
       "    </tr>\n",
       "  </tbody>\n",
       "</table>\n",
       "</div>"
      ],
      "text/plain": [
       "                      model name  \\\n",
       "0          hard_logistic_svc_xgb   \n",
       "1                   hard_svc_xgb   \n",
       "2               hard_knn_svc_xgb   \n",
       "3                    hard_svc_rf   \n",
       "4       hard_logistic_svc_rf_xgb   \n",
       "5                            svc   \n",
       "6          soft_logistic_svc_xgb   \n",
       "7              soft_logistic_xgb   \n",
       "8            soft_knn_svc_rf_xgb   \n",
       "9   hard_knn_logistic_svc_rf_xgb   \n",
       "10                  soft_svc_xgb   \n",
       "11          hard_logistic_svc_rf   \n",
       "12           hard_knn_svc_rf_xgb   \n",
       "13               hard_knn_svc_rf   \n",
       "14                   soft_svc_rf   \n",
       "15                   hard_rf_xgb   \n",
       "16                           xgb   \n",
       "17               soft_svc_rf_xgb   \n",
       "18      soft_logistic_svc_rf_xgb   \n",
       "19          soft_logistic_rf_xgb   \n",
       "20               soft_knn_svc_rf   \n",
       "21              soft_knn_svc_xgb   \n",
       "22          hard_logistic_rf_xgb   \n",
       "23               hard_svc_rf_xgb   \n",
       "24          soft_logistic_svc_rf   \n",
       "25  soft_knn_logistic_svc_rf_xgb   \n",
       "26             soft_logistic_svc   \n",
       "27     soft_knn_logistic_svc_xgb   \n",
       "28     hard_knn_logistic_svc_xgb   \n",
       "29                   soft_rf_xgb   \n",
       "30               hard_knn_rf_xgb   \n",
       "31             hard_logistic_svc   \n",
       "32      hard_knn_logistic_svc_rf   \n",
       "33                            rf   \n",
       "34                  hard_knn_xgb   \n",
       "35                  hard_knn_svc   \n",
       "36                  soft_knn_xgb   \n",
       "37               soft_knn_rf_xgb   \n",
       "38                  soft_knn_svc   \n",
       "39                   soft_knn_rf   \n",
       "40      soft_knn_logistic_rf_xgb   \n",
       "41      hard_knn_logistic_rf_xgb   \n",
       "42         hard_knn_logistic_svc   \n",
       "43                   hard_knn_rf   \n",
       "44              soft_logistic_rf   \n",
       "45      soft_knn_logistic_svc_rf   \n",
       "46         hard_knn_logistic_xgb   \n",
       "47              hard_logistic_rf   \n",
       "48             hard_logistic_xgb   \n",
       "49         soft_knn_logistic_svc   \n",
       "50          soft_knn_logistic_rf   \n",
       "51         soft_knn_logistic_xgb   \n",
       "52                      logistic   \n",
       "53             soft_knn_logistic   \n",
       "54          hard_knn_logistic_rf   \n",
       "55             hard_knn_logistic   \n",
       "56                           knn   \n",
       "\n",
       "                                                model     score  \n",
       "0   VotingClassifier(estimators=[('logistic',\\n   ...  0.839167  \n",
       "1   VotingClassifier(estimators=[('svc', SVC(C=70,...  0.838044  \n",
       "2   VotingClassifier(estimators=[('knn', KNeighbor...  0.836926  \n",
       "3   VotingClassifier(estimators=[('svc', SVC(C=70,...  0.835803  \n",
       "4   VotingClassifier(estimators=[('logistic',\\n   ...  0.835784  \n",
       "5           SVC(C=70, gamma=0.0106, probability=True)  0.834685  \n",
       "6   VotingClassifier(estimators=[('logistic',\\n   ...  0.833549  \n",
       "7   VotingClassifier(estimators=[('logistic',\\n   ...  0.833543  \n",
       "8   VotingClassifier(estimators=[('knn', KNeighbor...  0.832432  \n",
       "9   VotingClassifier(estimators=[('knn', KNeighbor...  0.832432  \n",
       "10  VotingClassifier(estimators=[('svc', SVC(C=70,...  0.832432  \n",
       "11  VotingClassifier(estimators=[('logistic',\\n   ...  0.832426  \n",
       "12  VotingClassifier(estimators=[('knn', KNeighbor...  0.832426  \n",
       "13  VotingClassifier(estimators=[('knn', KNeighbor...  0.831315  \n",
       "14  VotingClassifier(estimators=[('svc', SVC(C=70,...  0.831315  \n",
       "15  VotingClassifier(estimators=[('rf',\\n         ...  0.831289  \n",
       "16  XGBClassifier(base_score=0.5, booster='gbtree'...  0.831277  \n",
       "17  VotingClassifier(estimators=[('svc', SVC(C=70,...  0.830178  \n",
       "18  VotingClassifier(estimators=[('logistic',\\n   ...  0.830178  \n",
       "19  VotingClassifier(estimators=[('logistic',\\n   ...  0.830159  \n",
       "20  VotingClassifier(estimators=[('knn', KNeighbor...  0.829067  \n",
       "21  VotingClassifier(estimators=[('knn', KNeighbor...  0.829061  \n",
       "22  VotingClassifier(estimators=[('logistic',\\n   ...  0.829036  \n",
       "23  VotingClassifier(estimators=[('svc', SVC(C=70,...  0.829036  \n",
       "24  VotingClassifier(estimators=[('logistic',\\n   ...  0.827938  \n",
       "25  VotingClassifier(estimators=[('knn', KNeighbor...  0.827925  \n",
       "26  VotingClassifier(estimators=[('logistic',\\n   ...  0.826814  \n",
       "27  VotingClassifier(estimators=[('knn', KNeighbor...  0.826808  \n",
       "28  VotingClassifier(estimators=[('knn', KNeighbor...  0.826789  \n",
       "29  VotingClassifier(estimators=[('rf',\\n         ...  0.826789  \n",
       "30  VotingClassifier(estimators=[('knn', KNeighbor...  0.825671  \n",
       "31  VotingClassifier(estimators=[('logistic',\\n   ...  0.823430  \n",
       "32  VotingClassifier(estimators=[('knn', KNeighbor...  0.823424  \n",
       "33  RandomForestClassifier(criterion='entropy', ma...  0.823418  \n",
       "34  VotingClassifier(estimators=[('knn', KNeighbor...  0.823405  \n",
       "35  VotingClassifier(estimators=[('knn', KNeighbor...  0.822301  \n",
       "36  VotingClassifier(estimators=[('knn', KNeighbor...  0.822288  \n",
       "37  VotingClassifier(estimators=[('knn', KNeighbor...  0.822288  \n",
       "38  VotingClassifier(estimators=[('knn', KNeighbor...  0.821196  \n",
       "39  VotingClassifier(estimators=[('knn', KNeighbor...  0.821177  \n",
       "40  VotingClassifier(estimators=[('knn', KNeighbor...  0.821171  \n",
       "41  VotingClassifier(estimators=[('knn', KNeighbor...  0.820047  \n",
       "42  VotingClassifier(estimators=[('knn', KNeighbor...  0.820041  \n",
       "43  VotingClassifier(estimators=[('knn', KNeighbor...  0.820034  \n",
       "44  VotingClassifier(estimators=[('logistic',\\n   ...  0.818930  \n",
       "45  VotingClassifier(estimators=[('knn', KNeighbor...  0.817806  \n",
       "46  VotingClassifier(estimators=[('knn', KNeighbor...  0.817800  \n",
       "47  VotingClassifier(estimators=[('logistic',\\n   ...  0.817793  \n",
       "48  VotingClassifier(estimators=[('logistic',\\n   ...  0.817787  \n",
       "49  VotingClassifier(estimators=[('knn', KNeighbor...  0.816689  \n",
       "50  VotingClassifier(estimators=[('knn', KNeighbor...  0.816683  \n",
       "51  VotingClassifier(estimators=[('knn', KNeighbor...  0.816676  \n",
       "52  LogisticRegression(C=0.08858667904100823, max_...  0.813312  \n",
       "53  VotingClassifier(estimators=[('knn', KNeighbor...  0.813299  \n",
       "54  VotingClassifier(estimators=[('knn', KNeighbor...  0.812188  \n",
       "55  VotingClassifier(estimators=[('knn', KNeighbor...  0.812169  \n",
       "56           KNeighborsClassifier(n_neighbors=9, p=1)  0.812169  "
      ]
     },
     "execution_count": 27,
     "metadata": {},
     "output_type": "execute_result"
    }
   ],
   "source": [
    "# Cross validation scores of all models.\n",
    "result_by_model.sort_values('score', ascending=False).reset_index(drop=True)"
   ]
  },
  {
   "cell_type": "code",
   "execution_count": 28,
   "id": "a89b72e4",
   "metadata": {
    "execution": {
     "iopub.execute_input": "2021-12-23T17:58:59.580863Z",
     "iopub.status.busy": "2021-12-23T17:58:59.579073Z",
     "iopub.status.idle": "2021-12-23T17:59:00.343354Z",
     "shell.execute_reply": "2021-12-23T17:59:00.343979Z",
     "shell.execute_reply.started": "2021-12-23T17:56:45.437532Z"
    },
    "papermill": {
     "duration": 0.815547,
     "end_time": "2021-12-23T17:59:00.344177",
     "exception": false,
     "start_time": "2021-12-23T17:58:59.528630",
     "status": "completed"
    },
    "tags": []
   },
   "outputs": [],
   "source": [
    "model_name = 'hard_logistic_svc_rf_xgb'\n",
    "models[model_name].fit(X_train, y_train)\n",
    "y_pred = models[model_name].predict(X_test).astype('int')"
   ]
  },
  {
   "cell_type": "code",
   "execution_count": 29,
   "id": "c86b322c",
   "metadata": {
    "execution": {
     "iopub.execute_input": "2021-12-23T17:59:00.447471Z",
     "iopub.status.busy": "2021-12-23T17:59:00.446764Z",
     "iopub.status.idle": "2021-12-23T17:59:00.452747Z",
     "shell.execute_reply": "2021-12-23T17:59:00.453305Z",
     "shell.execute_reply.started": "2021-12-23T17:56:47.625579Z"
    },
    "papermill": {
     "duration": 0.058968,
     "end_time": "2021-12-23T17:59:00.453515",
     "exception": false,
     "start_time": "2021-12-23T17:59:00.394547",
     "status": "completed"
    },
    "tags": []
   },
   "outputs": [],
   "source": [
    "submission = pd.DataFrame({'PassengerId': test.PassengerId, \n",
    "                              'Survived': y_pred})\n",
    "\n",
    "submission.to_csv('submission.csv', index = False)"
   ]
  },
  {
   "cell_type": "code",
   "execution_count": 30,
   "id": "a1ccba95",
   "metadata": {
    "execution": {
     "iopub.execute_input": "2021-12-23T17:59:00.559468Z",
     "iopub.status.busy": "2021-12-23T17:59:00.558445Z",
     "iopub.status.idle": "2021-12-23T17:59:00.562536Z",
     "shell.execute_reply": "2021-12-23T17:59:00.563582Z",
     "shell.execute_reply.started": "2021-12-23T17:49:55.844417Z"
    },
    "papermill": {
     "duration": 0.063147,
     "end_time": "2021-12-23T17:59:00.563852",
     "exception": false,
     "start_time": "2021-12-23T17:59:00.500705",
     "status": "completed"
    },
    "tags": []
   },
   "outputs": [],
   "source": [
    "#train_data['Cabin'].value_counts()"
   ]
  },
  {
   "cell_type": "code",
   "execution_count": 31,
   "id": "88b978ed",
   "metadata": {
    "execution": {
     "iopub.execute_input": "2021-12-23T17:59:00.679649Z",
     "iopub.status.busy": "2021-12-23T17:59:00.678910Z",
     "iopub.status.idle": "2021-12-23T17:59:00.681937Z",
     "shell.execute_reply": "2021-12-23T17:59:00.682496Z",
     "shell.execute_reply.started": "2021-12-23T17:49:55.855434Z"
    },
    "papermill": {
     "duration": 0.059014,
     "end_time": "2021-12-23T17:59:00.682701",
     "exception": false,
     "start_time": "2021-12-23T17:59:00.623687",
     "status": "completed"
    },
    "tags": []
   },
   "outputs": [],
   "source": [
    "#feat = ['Pclass','Sex', 'Age', 'SibSp', 'Parch', 'Fare', 'Embarked']"
   ]
  },
  {
   "cell_type": "code",
   "execution_count": 32,
   "id": "6fd7bf44",
   "metadata": {
    "execution": {
     "iopub.execute_input": "2021-12-23T17:59:00.785475Z",
     "iopub.status.busy": "2021-12-23T17:59:00.784829Z",
     "iopub.status.idle": "2021-12-23T17:59:00.787964Z",
     "shell.execute_reply": "2021-12-23T17:59:00.788514Z",
     "shell.execute_reply.started": "2021-12-23T17:49:55.866230Z"
    },
    "papermill": {
     "duration": 0.054628,
     "end_time": "2021-12-23T17:59:00.788685",
     "exception": false,
     "start_time": "2021-12-23T17:59:00.734057",
     "status": "completed"
    },
    "tags": []
   },
   "outputs": [],
   "source": [
    "#train_data['Pclass'].value_counts()"
   ]
  },
  {
   "cell_type": "code",
   "execution_count": 33,
   "id": "2214f202",
   "metadata": {
    "execution": {
     "iopub.execute_input": "2021-12-23T17:59:00.888510Z",
     "iopub.status.busy": "2021-12-23T17:59:00.887823Z",
     "iopub.status.idle": "2021-12-23T17:59:00.890840Z",
     "shell.execute_reply": "2021-12-23T17:59:00.891366Z",
     "shell.execute_reply.started": "2021-12-23T17:49:55.878522Z"
    },
    "papermill": {
     "duration": 0.054791,
     "end_time": "2021-12-23T17:59:00.891554",
     "exception": false,
     "start_time": "2021-12-23T17:59:00.836763",
     "status": "completed"
    },
    "tags": []
   },
   "outputs": [],
   "source": [
    "#train_data['Parch'].value_counts()"
   ]
  },
  {
   "cell_type": "code",
   "execution_count": null,
   "id": "06940d41",
   "metadata": {
    "papermill": {
     "duration": 0.046888,
     "end_time": "2021-12-23T17:59:00.985859",
     "exception": false,
     "start_time": "2021-12-23T17:59:00.938971",
     "status": "completed"
    },
    "tags": []
   },
   "outputs": [],
   "source": []
  },
  {
   "cell_type": "code",
   "execution_count": null,
   "id": "902ff97e",
   "metadata": {
    "papermill": {
     "duration": 0.047897,
     "end_time": "2021-12-23T17:59:01.082121",
     "exception": false,
     "start_time": "2021-12-23T17:59:01.034224",
     "status": "completed"
    },
    "tags": []
   },
   "outputs": [],
   "source": []
  },
  {
   "cell_type": "code",
   "execution_count": null,
   "id": "bca88d2e",
   "metadata": {
    "papermill": {
     "duration": 0.046908,
     "end_time": "2021-12-23T17:59:01.176490",
     "exception": false,
     "start_time": "2021-12-23T17:59:01.129582",
     "status": "completed"
    },
    "tags": []
   },
   "outputs": [],
   "source": []
  },
  {
   "cell_type": "code",
   "execution_count": 34,
   "id": "b97a3649",
   "metadata": {
    "execution": {
     "iopub.execute_input": "2021-12-23T17:59:01.274649Z",
     "iopub.status.busy": "2021-12-23T17:59:01.273951Z",
     "iopub.status.idle": "2021-12-23T17:59:01.276347Z",
     "shell.execute_reply": "2021-12-23T17:59:01.276926Z",
     "shell.execute_reply.started": "2021-12-23T17:49:55.890609Z"
    },
    "papermill": {
     "duration": 0.053316,
     "end_time": "2021-12-23T17:59:01.277104",
     "exception": false,
     "start_time": "2021-12-23T17:59:01.223788",
     "status": "completed"
    },
    "tags": []
   },
   "outputs": [],
   "source": [
    "#women = train_data.loc[train_data.Sex == 'female']['Survived']\n",
    "#rate_women = sum(women)/len(women)"
   ]
  },
  {
   "cell_type": "code",
   "execution_count": null,
   "id": "37b11340",
   "metadata": {
    "papermill": {
     "duration": 0.046888,
     "end_time": "2021-12-23T17:59:01.371305",
     "exception": false,
     "start_time": "2021-12-23T17:59:01.324417",
     "status": "completed"
    },
    "tags": []
   },
   "outputs": [],
   "source": []
  },
  {
   "cell_type": "code",
   "execution_count": null,
   "id": "9c5e07f0",
   "metadata": {
    "papermill": {
     "duration": 0.046719,
     "end_time": "2021-12-23T17:59:01.465163",
     "exception": false,
     "start_time": "2021-12-23T17:59:01.418444",
     "status": "completed"
    },
    "tags": []
   },
   "outputs": [],
   "source": []
  },
  {
   "cell_type": "code",
   "execution_count": null,
   "id": "9e9f728c",
   "metadata": {
    "papermill": {
     "duration": 0.046797,
     "end_time": "2021-12-23T17:59:01.559280",
     "exception": false,
     "start_time": "2021-12-23T17:59:01.512483",
     "status": "completed"
    },
    "tags": []
   },
   "outputs": [],
   "source": []
  },
  {
   "cell_type": "code",
   "execution_count": null,
   "id": "2533a92a",
   "metadata": {
    "papermill": {
     "duration": 0.047111,
     "end_time": "2021-12-23T17:59:01.654116",
     "exception": false,
     "start_time": "2021-12-23T17:59:01.607005",
     "status": "completed"
    },
    "tags": []
   },
   "outputs": [],
   "source": []
  },
  {
   "cell_type": "code",
   "execution_count": 35,
   "id": "f1ade099",
   "metadata": {
    "execution": {
     "iopub.execute_input": "2021-12-23T17:59:01.752844Z",
     "iopub.status.busy": "2021-12-23T17:59:01.752182Z",
     "iopub.status.idle": "2021-12-23T17:59:01.754855Z",
     "shell.execute_reply": "2021-12-23T17:59:01.755427Z",
     "shell.execute_reply.started": "2021-12-23T17:49:55.902895Z"
    },
    "papermill": {
     "duration": 0.054144,
     "end_time": "2021-12-23T17:59:01.755623",
     "exception": false,
     "start_time": "2021-12-23T17:59:01.701479",
     "status": "completed"
    },
    "tags": []
   },
   "outputs": [],
   "source": [
    "#men = train_data.loc[train_data.Sex == 'male']['Survived']\n",
    "#rate_men = sum(men)/len(men)"
   ]
  },
  {
   "cell_type": "code",
   "execution_count": 36,
   "id": "202098c2",
   "metadata": {
    "execution": {
     "iopub.execute_input": "2021-12-23T17:59:01.855252Z",
     "iopub.status.busy": "2021-12-23T17:59:01.854538Z",
     "iopub.status.idle": "2021-12-23T17:59:01.857484Z",
     "shell.execute_reply": "2021-12-23T17:59:01.856977Z",
     "shell.execute_reply.started": "2021-12-23T17:49:55.913638Z"
    },
    "papermill": {
     "duration": 0.054769,
     "end_time": "2021-12-23T17:59:01.857628",
     "exception": false,
     "start_time": "2021-12-23T17:59:01.802859",
     "status": "completed"
    },
    "tags": []
   },
   "outputs": [],
   "source": [
    "#print('% of women who survived: ', rate_women)\n",
    "#print('% of men who survived: ', rate_men)"
   ]
  },
  {
   "cell_type": "code",
   "execution_count": 37,
   "id": "edfbe023",
   "metadata": {
    "execution": {
     "iopub.execute_input": "2021-12-23T17:59:01.956737Z",
     "iopub.status.busy": "2021-12-23T17:59:01.956015Z",
     "iopub.status.idle": "2021-12-23T17:59:01.957831Z",
     "shell.execute_reply": "2021-12-23T17:59:01.958297Z",
     "shell.execute_reply.started": "2021-12-23T17:49:55.925557Z"
    },
    "papermill": {
     "duration": 0.053609,
     "end_time": "2021-12-23T17:59:01.958505",
     "exception": false,
     "start_time": "2021-12-23T17:59:01.904896",
     "status": "completed"
    },
    "tags": []
   },
   "outputs": [],
   "source": [
    "#target = train_data['Survived']"
   ]
  },
  {
   "cell_type": "code",
   "execution_count": 38,
   "id": "bd148dbf",
   "metadata": {
    "execution": {
     "iopub.execute_input": "2021-12-23T17:59:02.058358Z",
     "iopub.status.busy": "2021-12-23T17:59:02.057728Z",
     "iopub.status.idle": "2021-12-23T17:59:02.060645Z",
     "shell.execute_reply": "2021-12-23T17:59:02.061210Z",
     "shell.execute_reply.started": "2021-12-23T17:49:55.937348Z"
    },
    "papermill": {
     "duration": 0.05541,
     "end_time": "2021-12-23T17:59:02.061375",
     "exception": false,
     "start_time": "2021-12-23T17:59:02.005965",
     "status": "completed"
    },
    "tags": []
   },
   "outputs": [],
   "source": [
    "#features = ['Pclass', 'Sex', 'SibSp', 'Parch']"
   ]
  },
  {
   "cell_type": "code",
   "execution_count": 39,
   "id": "719449a2",
   "metadata": {
    "execution": {
     "iopub.execute_input": "2021-12-23T17:59:02.159161Z",
     "iopub.status.busy": "2021-12-23T17:59:02.158516Z",
     "iopub.status.idle": "2021-12-23T17:59:02.161492Z",
     "shell.execute_reply": "2021-12-23T17:59:02.162030Z",
     "shell.execute_reply.started": "2021-12-23T17:49:55.949714Z"
    },
    "papermill": {
     "duration": 0.053475,
     "end_time": "2021-12-23T17:59:02.162199",
     "exception": false,
     "start_time": "2021-12-23T17:59:02.108724",
     "status": "completed"
    },
    "tags": []
   },
   "outputs": [],
   "source": [
    "#X = pd.get_dummies(train_data[features])"
   ]
  },
  {
   "cell_type": "code",
   "execution_count": 40,
   "id": "7af54adb",
   "metadata": {
    "execution": {
     "iopub.execute_input": "2021-12-23T17:59:02.260709Z",
     "iopub.status.busy": "2021-12-23T17:59:02.259977Z",
     "iopub.status.idle": "2021-12-23T17:59:02.263202Z",
     "shell.execute_reply": "2021-12-23T17:59:02.263757Z",
     "shell.execute_reply.started": "2021-12-23T17:49:55.960704Z"
    },
    "papermill": {
     "duration": 0.053876,
     "end_time": "2021-12-23T17:59:02.263948",
     "exception": false,
     "start_time": "2021-12-23T17:59:02.210072",
     "status": "completed"
    },
    "tags": []
   },
   "outputs": [],
   "source": [
    "#X_test = pd.get_dummies(test_data[features])"
   ]
  },
  {
   "cell_type": "code",
   "execution_count": 41,
   "id": "3de8b42f",
   "metadata": {
    "execution": {
     "iopub.execute_input": "2021-12-23T17:59:02.363409Z",
     "iopub.status.busy": "2021-12-23T17:59:02.362739Z",
     "iopub.status.idle": "2021-12-23T17:59:02.366200Z",
     "shell.execute_reply": "2021-12-23T17:59:02.366766Z",
     "shell.execute_reply.started": "2021-12-23T17:49:55.972645Z"
    },
    "papermill": {
     "duration": 0.05431,
     "end_time": "2021-12-23T17:59:02.366938",
     "exception": false,
     "start_time": "2021-12-23T17:59:02.312628",
     "status": "completed"
    },
    "tags": []
   },
   "outputs": [],
   "source": [
    "#X_test"
   ]
  },
  {
   "cell_type": "code",
   "execution_count": 42,
   "id": "2e060e19",
   "metadata": {
    "execution": {
     "iopub.execute_input": "2021-12-23T17:59:02.466260Z",
     "iopub.status.busy": "2021-12-23T17:59:02.465299Z",
     "iopub.status.idle": "2021-12-23T17:59:02.468659Z",
     "shell.execute_reply": "2021-12-23T17:59:02.469153Z",
     "shell.execute_reply.started": "2021-12-23T17:49:55.983269Z"
    },
    "papermill": {
     "duration": 0.055026,
     "end_time": "2021-12-23T17:59:02.469331",
     "exception": false,
     "start_time": "2021-12-23T17:59:02.414305",
     "status": "completed"
    },
    "tags": []
   },
   "outputs": [],
   "source": [
    "#model  = RandomForestClassifier(n_estimators = 100, max_depth = 5, random_state = 1)\n",
    "#model.fit(X, target)\n",
    "#predictions = model.predict(X_test)"
   ]
  },
  {
   "cell_type": "code",
   "execution_count": 43,
   "id": "3f41b898",
   "metadata": {
    "execution": {
     "iopub.execute_input": "2021-12-23T17:59:02.569521Z",
     "iopub.status.busy": "2021-12-23T17:59:02.568691Z",
     "iopub.status.idle": "2021-12-23T17:59:02.571142Z",
     "shell.execute_reply": "2021-12-23T17:59:02.571610Z",
     "shell.execute_reply.started": "2021-12-23T17:49:55.994507Z"
    },
    "papermill": {
     "duration": 0.054919,
     "end_time": "2021-12-23T17:59:02.571781",
     "exception": false,
     "start_time": "2021-12-23T17:59:02.516862",
     "status": "completed"
    },
    "tags": []
   },
   "outputs": [],
   "source": [
    "#model2 = XGBClassifier()\n",
    "#model2.fit(X, target)\n",
    "#pred = model.predict(X_test)"
   ]
  },
  {
   "cell_type": "code",
   "execution_count": 44,
   "id": "99c64f99",
   "metadata": {
    "execution": {
     "iopub.execute_input": "2021-12-23T17:59:02.671374Z",
     "iopub.status.busy": "2021-12-23T17:59:02.670714Z",
     "iopub.status.idle": "2021-12-23T17:59:02.673866Z",
     "shell.execute_reply": "2021-12-23T17:59:02.673300Z",
     "shell.execute_reply.started": "2021-12-23T17:49:56.005169Z"
    },
    "papermill": {
     "duration": 0.054295,
     "end_time": "2021-12-23T17:59:02.674008",
     "exception": false,
     "start_time": "2021-12-23T17:59:02.619713",
     "status": "completed"
    },
    "tags": []
   },
   "outputs": [],
   "source": [
    "#pred"
   ]
  },
  {
   "cell_type": "code",
   "execution_count": 45,
   "id": "fb99b558",
   "metadata": {
    "execution": {
     "iopub.execute_input": "2021-12-23T17:59:02.773749Z",
     "iopub.status.busy": "2021-12-23T17:59:02.773037Z",
     "iopub.status.idle": "2021-12-23T17:59:02.774832Z",
     "shell.execute_reply": "2021-12-23T17:59:02.775316Z",
     "shell.execute_reply.started": "2021-12-23T17:49:56.016156Z"
    },
    "papermill": {
     "duration": 0.054125,
     "end_time": "2021-12-23T17:59:02.775524",
     "exception": false,
     "start_time": "2021-12-23T17:59:02.721399",
     "status": "completed"
    },
    "tags": []
   },
   "outputs": [],
   "source": [
    "#predictions"
   ]
  },
  {
   "cell_type": "code",
   "execution_count": null,
   "id": "fe90dd3d",
   "metadata": {
    "papermill": {
     "duration": 0.047382,
     "end_time": "2021-12-23T17:59:02.871864",
     "exception": false,
     "start_time": "2021-12-23T17:59:02.824482",
     "status": "completed"
    },
    "tags": []
   },
   "outputs": [],
   "source": []
  },
  {
   "cell_type": "code",
   "execution_count": 46,
   "id": "71fa5ce8",
   "metadata": {
    "execution": {
     "iopub.execute_input": "2021-12-23T17:59:02.973541Z",
     "iopub.status.busy": "2021-12-23T17:59:02.972785Z",
     "iopub.status.idle": "2021-12-23T17:59:02.974260Z",
     "shell.execute_reply": "2021-12-23T17:59:02.974770Z",
     "shell.execute_reply.started": "2021-12-23T17:49:56.026579Z"
    },
    "papermill": {
     "duration": 0.054837,
     "end_time": "2021-12-23T17:59:02.974940",
     "exception": false,
     "start_time": "2021-12-23T17:59:02.920103",
     "status": "completed"
    },
    "tags": []
   },
   "outputs": [],
   "source": [
    "#output = pd.DataFrame({'PassengerId': test_data.PassengerId, 'Survived': pred})\n",
    "#output.to_csv('my_submission.csv', index=False)\n"
   ]
  },
  {
   "cell_type": "code",
   "execution_count": null,
   "id": "02b54a01",
   "metadata": {
    "papermill": {
     "duration": 0.047806,
     "end_time": "2021-12-23T17:59:03.070345",
     "exception": false,
     "start_time": "2021-12-23T17:59:03.022539",
     "status": "completed"
    },
    "tags": []
   },
   "outputs": [],
   "source": []
  }
 ],
 "metadata": {
  "kernelspec": {
   "display_name": "Python 3",
   "language": "python",
   "name": "python3"
  },
  "language_info": {
   "codemirror_mode": {
    "name": "ipython",
    "version": 3
   },
   "file_extension": ".py",
   "mimetype": "text/x-python",
   "name": "python",
   "nbconvert_exporter": "python",
   "pygments_lexer": "ipython3",
   "version": "3.7.12"
  },
  "papermill": {
   "default_parameters": {},
   "duration": 122.087532,
   "end_time": "2021-12-23T17:59:03.830380",
   "environment_variables": {},
   "exception": null,
   "input_path": "__notebook__.ipynb",
   "output_path": "__notebook__.ipynb",
   "parameters": {},
   "start_time": "2021-12-23T17:57:01.742848",
   "version": "2.3.3"
  }
 },
 "nbformat": 4,
 "nbformat_minor": 5
}
